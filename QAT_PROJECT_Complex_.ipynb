{
 "cells": [
  {
   "cell_type": "code",
   "execution_count": 4,
   "id": "0023d1c6-f98b-470c-932f-40ff6b7956d0",
   "metadata": {
    "tags": []
   },
   "outputs": [],
   "source": [
    "# Importing standard Qiskit libraries\n",
    "from qiskit import QuantumCircuit, Aer, transpile, assemble, execute\n",
    "from qiskit.tools.jupyter import *\n",
    "from qiskit.visualization import *\n",
    "from ibm_quantum_widgets import *\n",
    "import math\n",
    "import qiskit.quantum_info as qi\n",
    "from qiskit.quantum_info import Statevector\n",
    "import matplotlib.pyplot as plt\n",
    "import pylatexenc\n",
    "from qiskit.quantum_info import state_fidelity \n",
    "import numpy as np\n",
    "# qiskit-ibmq-provider has been deprecated.\n",
    "# Please see the Migration Guides in https://ibm.biz/provider_migration_guide for more detail.\n",
    "from qiskit_ibm_runtime import QiskitRuntimeService, Sampler, Estimator, Session, Options\n",
    "\n",
    "# Loading your IBM Quantum account(s)\n",
    "service = QiskitRuntimeService(channel=\"ibm_quantum\")\n",
    "from qiskit.circuit import ParameterVector\n",
    "# Invoke a primitive. For more details see https://docs.quantum-computing.ibm.com/run/primitives\n",
    "# result = Sampler().run(circuits).result()"
   ]
  },
  {
   "cell_type": "code",
   "execution_count": 5,
   "id": "abb937ad-7a01-43ec-88a6-90f8aa5e32e5",
   "metadata": {
    "tags": []
   },
   "outputs": [],
   "source": [
    "def print_dotted_line(length):\n",
    "    dotted_line = '---' * length\n",
    "    print(dotted_line)"
   ]
  },
  {
   "cell_type": "markdown",
   "id": "7bb2d5a5-9519-4136-8136-c343e01810de",
   "metadata": {},
   "source": [
    "CIRCUIT : 1"
   ]
  },
  {
   "cell_type": "code",
   "execution_count": 6,
   "id": "db69df18-339b-4fcf-a6c5-c6c5433d557b",
   "metadata": {},
   "outputs": [
    {
     "name": "stdout",
     "output_type": "stream",
     "text": [
      "(<qiskit.circuit.quantumcircuit.QuantumCircuit object at 0x7f8d252ed480>, 8)\n"
     ]
    }
   ],
   "source": [
    "qc = QuantumCircuit(4)\n",
    "theta = ParameterVector('θ', 8)\n",
    "\n",
    "qc.rx(theta[0],0)\n",
    "qc.rz(theta[1],0)\n",
    "\n",
    "qc.rx(theta[2],1)\n",
    "qc.rz(theta[3],1)\n",
    "\n",
    "qc.rx(theta[4],2)\n",
    "qc.rz(theta[5],2)\n",
    "\n",
    "qc.rx(theta[6],3)\n",
    "qc.rz(theta[7],3)\n",
    "\n",
    "qc1 = (qc,len(theta))\n",
    "print(qc1)"
   ]
  },
  {
   "cell_type": "markdown",
   "id": "6d25a383-aa2e-4700-857e-f26027cc3d83",
   "metadata": {},
   "source": [
    "Circuit : 2"
   ]
  },
  {
   "cell_type": "code",
   "execution_count": 7,
   "id": "f3c3acc9-04f2-4a77-873d-65d3ac045247",
   "metadata": {},
   "outputs": [
    {
     "name": "stdout",
     "output_type": "stream",
     "text": [
      "(<qiskit.circuit.quantumcircuit.QuantumCircuit object at 0x7f8d2529a260>, 8)\n"
     ]
    }
   ],
   "source": [
    "qc = QuantumCircuit(4)\n",
    "theta = ParameterVector('θ', 8)\n",
    "\n",
    "qc.rx(theta[0],0)\n",
    "qc.rz(theta[1],0)\n",
    "\n",
    "qc.rx(theta[2],1)\n",
    "qc.rz(theta[3],1)\n",
    "\n",
    "qc.rx(theta[4],2)\n",
    "qc.rz(theta[5],2)\n",
    "\n",
    "qc.rx(theta[6],3)\n",
    "qc.rz(theta[7],3)\n",
    "\n",
    "qc.cx(3,2)\n",
    "qc.cx(2,1)\n",
    "qc.cx(1,0)\n",
    "\n",
    "qc2 = (qc,len(theta))\n",
    "print(qc2)"
   ]
  },
  {
   "cell_type": "markdown",
   "id": "46ad6294-0ce1-4c5a-ba02-38e0fd683430",
   "metadata": {},
   "source": [
    "Circuit : 3"
   ]
  },
  {
   "cell_type": "code",
   "execution_count": 8,
   "id": "ebdb77b7-08a8-4982-bd13-b2d9875e4a8d",
   "metadata": {},
   "outputs": [
    {
     "name": "stdout",
     "output_type": "stream",
     "text": [
      "(<qiskit.circuit.quantumcircuit.QuantumCircuit object at 0x7f8d84ad28f0>, 11)\n"
     ]
    }
   ],
   "source": [
    "qc = QuantumCircuit(4)\n",
    "theta = ParameterVector('θ', 11)\n",
    "\n",
    "qc.rx(theta[0],0)\n",
    "qc.rz(theta[1],0)\n",
    "\n",
    "qc.rx(theta[2],1)\n",
    "qc.rz(theta[3],1)\n",
    "\n",
    "qc.rx(theta[4],2)\n",
    "qc.rz(theta[5],2)\n",
    "\n",
    "qc.rx(theta[6],3)\n",
    "qc.rz(theta[7],3)\n",
    "\n",
    "qc.crz(theta[8],3,2)\n",
    "qc.crz(theta[9],2,1)\n",
    "qc.crz(theta[10],1,0)\n",
    "\n",
    "qc3 = (qc,len(theta))\n",
    "print(qc3)"
   ]
  },
  {
   "cell_type": "markdown",
   "id": "cf202d1f-5490-4a44-9175-b776dd68bb6d",
   "metadata": {
    "tags": []
   },
   "source": [
    "Circuit : 4"
   ]
  },
  {
   "cell_type": "code",
   "execution_count": 9,
   "id": "75d6b2e5-4777-4871-a704-913a8153aa49",
   "metadata": {},
   "outputs": [
    {
     "name": "stdout",
     "output_type": "stream",
     "text": [
      "(<qiskit.circuit.quantumcircuit.QuantumCircuit object at 0x7f8d252ab070>, 11)\n"
     ]
    }
   ],
   "source": [
    "qc = QuantumCircuit(4)\n",
    "theta = ParameterVector('θ', 11)\n",
    "\n",
    "qc.rx(theta[0],0)\n",
    "qc.rz(theta[1],0)\n",
    "\n",
    "qc.rx(theta[2],1)\n",
    "qc.rz(theta[3],1)\n",
    "\n",
    "qc.rx(theta[4],2)\n",
    "qc.rz(theta[5],2)\n",
    "\n",
    "qc.rx(theta[6],3)\n",
    "qc.rz(theta[7],3)\n",
    "\n",
    "qc.crx(theta[8],3,2)\n",
    "qc.crx(theta[9],2,1)\n",
    "qc.crx(theta[10],1,0)\n",
    "\n",
    "qc4 = (qc,len(theta))\n",
    "print(qc4)"
   ]
  },
  {
   "cell_type": "markdown",
   "id": "cde7d0c8-ecd7-4232-9fbe-c81e9e16f6ee",
   "metadata": {
    "tags": []
   },
   "source": [
    "Circuit : 5"
   ]
  },
  {
   "cell_type": "code",
   "execution_count": 10,
   "id": "91d9a51a-d17a-4693-9f27-435ca0361f92",
   "metadata": {
    "tags": []
   },
   "outputs": [
    {
     "name": "stdout",
     "output_type": "stream",
     "text": [
      "(<qiskit.circuit.quantumcircuit.QuantumCircuit object at 0x7f8d252dc460>, 25)\n"
     ]
    }
   ],
   "source": [
    "qc = QuantumCircuit(4)\n",
    "theta = ParameterVector('θ', 25)\n",
    "\n",
    "qc.rx(theta[0],0)\n",
    "qc.rz(theta[1],0)\n",
    "\n",
    "qc.rx(theta[2],1)\n",
    "qc.rz(theta[3],1)\n",
    "\n",
    "qc.rx(theta[4],2)\n",
    "qc.rz(theta[5],2)\n",
    "\n",
    "qc.rx(theta[6],3)\n",
    "qc.rz(theta[7],3)\n",
    "\n",
    "qc.barrier()\n",
    "\n",
    "qc.crz(theta[8],3,2)\n",
    "qc.crz(theta[9],2,1)\n",
    "qc.crz(theta[10],1,0)\n",
    "\n",
    "qc.barrier()\n",
    "\n",
    "qc.crz(theta[11],2,3)\n",
    "qc.crz(theta[12],2,1)\n",
    "qc.crz(theta[13],1,0)\n",
    "\n",
    "qc.barrier()\n",
    "\n",
    "qc.crz(theta[14],1,3)\n",
    "qc.crz(theta[15],1,2)\n",
    "qc.crz(theta[16],1,0)\n",
    "\n",
    "qc.barrier()\n",
    "\n",
    "qc.crz(theta[14],0,3)\n",
    "qc.crz(theta[15],0,2)\n",
    "qc.crz(theta[16],0,1)\n",
    "\n",
    "qc.barrier()\n",
    "\n",
    "qc.rx(theta[17],0)\n",
    "qc.rz(theta[18],0)\n",
    "\n",
    "qc.rx(theta[19],1)\n",
    "qc.rz(theta[20],1)\n",
    "\n",
    "qc.rx(theta[21],2)\n",
    "qc.rz(theta[22],2)\n",
    "\n",
    "qc.rx(theta[23],3)\n",
    "qc.rz(theta[24],3)\n",
    "\n",
    "qc5 = (qc,len(theta))\n",
    "print(qc5)"
   ]
  },
  {
   "cell_type": "markdown",
   "id": "38953f68-cf0f-49a3-9e98-2499e3ce7400",
   "metadata": {},
   "source": [
    "Circuit : 6"
   ]
  },
  {
   "cell_type": "code",
   "execution_count": 11,
   "id": "e635dd74-17f3-4ee0-a9f3-866f93ea6137",
   "metadata": {},
   "outputs": [
    {
     "name": "stdout",
     "output_type": "stream",
     "text": [
      "(<qiskit.circuit.quantumcircuit.QuantumCircuit object at 0x7f8d252ab730>, 25)\n"
     ]
    }
   ],
   "source": [
    "qc = QuantumCircuit(4)\n",
    "theta = ParameterVector('θ', 25)\n",
    "\n",
    "qc.rx(theta[0],0)\n",
    "qc.rz(theta[1],0)\n",
    "\n",
    "qc.rx(theta[2],1)\n",
    "qc.rz(theta[3],1)\n",
    "\n",
    "qc.rx(theta[4],2)\n",
    "qc.rz(theta[5],2)\n",
    "\n",
    "qc.rx(theta[6],3)\n",
    "qc.rz(theta[7],3)\n",
    "\n",
    "qc.barrier()\n",
    "\n",
    "qc.crx(theta[8],3,2)\n",
    "qc.crx(theta[9],2,1)\n",
    "qc.crx(theta[10],1,0)\n",
    "\n",
    "qc.barrier()\n",
    "\n",
    "qc.crx(theta[11],2,3)\n",
    "qc.crx(theta[12],2,1)\n",
    "qc.crx(theta[13],1,0)\n",
    "\n",
    "qc.barrier()\n",
    "\n",
    "qc.crx(theta[14],1,3)\n",
    "qc.crx(theta[15],1,2)\n",
    "qc.crx(theta[16],1,0)\n",
    "\n",
    "qc.barrier()\n",
    "\n",
    "qc.crx(theta[14],0,3)\n",
    "qc.crx(theta[15],0,2)\n",
    "qc.crx(theta[16],0,1)\n",
    "\n",
    "qc.barrier()\n",
    "\n",
    "qc.rx(theta[17],0)\n",
    "qc.rz(theta[18],0)\n",
    "\n",
    "qc.rx(theta[19],1)\n",
    "qc.rz(theta[20],1)\n",
    "\n",
    "qc.rx(theta[21],2)\n",
    "qc.rz(theta[22],2)\n",
    "\n",
    "qc.rx(theta[23],3)\n",
    "qc.rz(theta[24],3)\n",
    "\n",
    "qc6 = (qc,len(theta))\n",
    "print(qc6)"
   ]
  },
  {
   "cell_type": "markdown",
   "id": "26db0760-66e3-416b-95ab-d6375e76e2a9",
   "metadata": {},
   "source": [
    "Circuit : 7"
   ]
  },
  {
   "cell_type": "code",
   "execution_count": 12,
   "id": "b925f21e-baa4-494f-9a27-a941268f91dd",
   "metadata": {
    "tags": []
   },
   "outputs": [
    {
     "name": "stdout",
     "output_type": "stream",
     "text": [
      "(<qiskit.circuit.quantumcircuit.QuantumCircuit object at 0x7f8d252ab4c0>, 19)\n"
     ]
    }
   ],
   "source": [
    "qc = QuantumCircuit(4)\n",
    "theta = ParameterVector('θ', 19)\n",
    "\n",
    "qc.rx(theta[0],0)\n",
    "qc.rz(theta[1],0)\n",
    "\n",
    "qc.rx(theta[2],1)\n",
    "qc.rz(theta[3],1)\n",
    "\n",
    "qc.rx(theta[4],2)\n",
    "qc.rz(theta[5],2)\n",
    "\n",
    "qc.rx(theta[6],3)\n",
    "qc.rz(theta[7],3)\n",
    "\n",
    "qc.barrier()\n",
    "\n",
    "qc.crz(theta[8],1,0)\n",
    "qc.crz(theta[9],3,2)\n",
    "\n",
    "qc.barrier()\n",
    "\n",
    "qc.rx(theta[10],0)\n",
    "qc.rz(theta[11],0)\n",
    "\n",
    "qc.rx(theta[12],1)\n",
    "qc.rz(theta[13],1)\n",
    "\n",
    "qc.rx(theta[14],2)\n",
    "qc.rz(theta[15],2)\n",
    "\n",
    "qc.rx(theta[16],3)\n",
    "qc.rz(theta[17],3)\n",
    "\n",
    "qc.crz(theta[18],2,1)\n",
    "\n",
    "qc7 = (qc,len(theta))\n",
    "print(qc7)"
   ]
  },
  {
   "cell_type": "markdown",
   "id": "fcfcfb3b-eebe-4080-b72a-5e96cc814e49",
   "metadata": {},
   "source": [
    "Circuit : 8 "
   ]
  },
  {
   "cell_type": "code",
   "execution_count": 13,
   "id": "26575e7f-4212-4913-b060-ebcc26cb1aa6",
   "metadata": {
    "tags": []
   },
   "outputs": [
    {
     "name": "stdout",
     "output_type": "stream",
     "text": [
      "(<qiskit.circuit.quantumcircuit.QuantumCircuit object at 0x7f8d252d3430>, 19)\n"
     ]
    }
   ],
   "source": [
    "qc = QuantumCircuit(4)\n",
    "theta = ParameterVector('θ', 19)\n",
    "\n",
    "qc.rx(theta[0],0)\n",
    "qc.rz(theta[1],0)\n",
    "\n",
    "qc.rx(theta[2],1)\n",
    "qc.rz(theta[3],1)\n",
    "\n",
    "qc.rx(theta[4],2)\n",
    "qc.rz(theta[5],2)\n",
    "\n",
    "qc.rx(theta[6],3)\n",
    "qc.rz(theta[7],3)\n",
    "\n",
    "qc.barrier()\n",
    "\n",
    "qc.crx(theta[8],1,0)\n",
    "qc.crx(theta[9],3,2)\n",
    "\n",
    "qc.barrier()\n",
    "\n",
    "qc.rx(theta[10],0)\n",
    "qc.rz(theta[11],0)\n",
    "\n",
    "qc.rx(theta[12],1)\n",
    "qc.rz(theta[13],1)\n",
    "\n",
    "qc.rx(theta[14],2)\n",
    "qc.rz(theta[15],2)\n",
    "\n",
    "qc.rx(theta[16],3)\n",
    "qc.rz(theta[17],3)\n",
    "\n",
    "qc.crx(theta[18],2,1)\n",
    "\n",
    "qc8 = (qc,len(theta))\n",
    "print(qc8)"
   ]
  },
  {
   "cell_type": "markdown",
   "id": "76444668-b546-43dd-b3fa-3909f623d36e",
   "metadata": {},
   "source": [
    "Circuit : 9"
   ]
  },
  {
   "cell_type": "code",
   "execution_count": 14,
   "id": "90d49564-40ce-4d72-8695-79bd356b1168",
   "metadata": {
    "tags": []
   },
   "outputs": [
    {
     "name": "stdout",
     "output_type": "stream",
     "text": [
      "(<qiskit.circuit.quantumcircuit.QuantumCircuit object at 0x7f8d252c0310>, 4)\n"
     ]
    }
   ],
   "source": [
    "qc = QuantumCircuit(4)\n",
    "theta = ParameterVector('θ', 4)\n",
    "\n",
    "qc.h(0)\n",
    "qc.h(1)\n",
    "qc.h(2)\n",
    "qc.h(3)\n",
    "\n",
    "qc.barrier()\n",
    "\n",
    "qc.cz(2,3)\n",
    "qc.cz(1,2)\n",
    "qc.cz(0,1)\n",
    "\n",
    "qc.barrier()\n",
    "\n",
    "qc.rx(theta[0],0)\n",
    "qc.rx(theta[1],1)\n",
    "qc.rx(theta[2],2)\n",
    "qc.rx(theta[3],3)\n",
    "\n",
    "qc9 = (qc,len(theta))\n",
    "print(qc9)"
   ]
  },
  {
   "cell_type": "markdown",
   "id": "413aeafd-449f-4c36-b0ed-cf9281b87f98",
   "metadata": {},
   "source": [
    "Circuit : 10"
   ]
  },
  {
   "cell_type": "code",
   "execution_count": 15,
   "id": "71610ff8-c4b6-4dd9-8d73-7feec3a4b978",
   "metadata": {
    "tags": []
   },
   "outputs": [
    {
     "name": "stdout",
     "output_type": "stream",
     "text": [
      "(<qiskit.circuit.quantumcircuit.QuantumCircuit object at 0x7f8d252c2b60>, 8)\n"
     ]
    }
   ],
   "source": [
    "qc = QuantumCircuit(4)\n",
    "theta = ParameterVector('θ', 8)\n",
    "\n",
    "qc.ry(theta[0],0)\n",
    "qc.ry(theta[1],1)\n",
    "qc.ry(theta[2],2)\n",
    "qc.ry(theta[3],3)\n",
    "\n",
    "qc.barrier()\n",
    "\n",
    "qc.cz(2,3)\n",
    "qc.cz(1,2)\n",
    "qc.cz(0,1)\n",
    "qc.cz(0,3)\n",
    "\n",
    "qc.barrier()\n",
    "\n",
    "qc.ry(theta[4],0)\n",
    "qc.ry(theta[5],1)\n",
    "qc.ry(theta[6],2)\n",
    "qc.ry(theta[7],3)\n",
    "\n",
    "qc10 = (qc,len(theta))\n",
    "print(qc10)"
   ]
  },
  {
   "cell_type": "markdown",
   "id": "7ca3e093-b0b6-4d66-ad6c-31e64a41047f",
   "metadata": {},
   "source": [
    "Circuit : 11"
   ]
  },
  {
   "cell_type": "code",
   "execution_count": 16,
   "id": "458534a3-9aed-42d9-b1e4-58edf2ba865a",
   "metadata": {
    "tags": []
   },
   "outputs": [
    {
     "name": "stdout",
     "output_type": "stream",
     "text": [
      "(<qiskit.circuit.quantumcircuit.QuantumCircuit object at 0x7f8d252d2380>, 12)\n"
     ]
    }
   ],
   "source": [
    "qc = QuantumCircuit(4)\n",
    "theta = ParameterVector('θ', 12)\n",
    "\n",
    "qc.ry(theta[0],0)\n",
    "qc.rz(theta[1],0)\n",
    "\n",
    "qc.ry(theta[2],1)\n",
    "qc.rz(theta[3],1)\n",
    "\n",
    "qc.ry(theta[4],2)\n",
    "qc.rz(theta[5],2)\n",
    "\n",
    "qc.ry(theta[6],3)\n",
    "qc.rz(theta[7],3)\n",
    "\n",
    "qc.barrier()\n",
    "\n",
    "qc.cx(1,0)\n",
    "qc.cx(3,2)\n",
    "\n",
    "qc.barrier()\n",
    "\n",
    "qc.ry(theta[8],1)\n",
    "qc.rz(theta[9],1)\n",
    "\n",
    "qc.ry(theta[10],2)\n",
    "qc.rz(theta[11],2)\n",
    "\n",
    "qc.cx(2,1)\n",
    "\n",
    "qc11 = (qc,len(theta))\n",
    "print(qc11)"
   ]
  },
  {
   "cell_type": "markdown",
   "id": "06edb406-12e6-4037-a1e3-5ed72502ca97",
   "metadata": {},
   "source": [
    "Circuit : 12"
   ]
  },
  {
   "cell_type": "code",
   "execution_count": 17,
   "id": "ad8229f4-cc72-447e-8405-3847e91f7834",
   "metadata": {
    "tags": []
   },
   "outputs": [
    {
     "name": "stdout",
     "output_type": "stream",
     "text": [
      "(<qiskit.circuit.quantumcircuit.QuantumCircuit object at 0x7f8d252c1e40>, 12)\n"
     ]
    }
   ],
   "source": [
    "qc = QuantumCircuit(4)\n",
    "theta = ParameterVector('θ', 12)\n",
    "\n",
    "qc.ry(theta[0],0)\n",
    "qc.rz(theta[1],0)\n",
    "\n",
    "qc.ry(theta[2],1)\n",
    "qc.rz(theta[3],1)\n",
    "\n",
    "qc.ry(theta[4],2)\n",
    "qc.rz(theta[5],2)\n",
    "\n",
    "qc.ry(theta[6],3)\n",
    "qc.rz(theta[7],3)\n",
    "\n",
    "qc.barrier()\n",
    "\n",
    "qc.cz(1,0)\n",
    "qc.cz(3,2)\n",
    "\n",
    "qc.barrier()\n",
    "\n",
    "qc.ry(theta[8],1)\n",
    "qc.rz(theta[9],1)\n",
    "\n",
    "qc.ry(theta[10],2)\n",
    "qc.rz(theta[11],2)\n",
    "\n",
    "qc.cz(2,1)\n",
    "\n",
    "qc12 = (qc,len(theta))\n",
    "print(qc12)"
   ]
  },
  {
   "cell_type": "markdown",
   "id": "38d2c931-07dc-4f25-a1b6-ee8a8b307555",
   "metadata": {},
   "source": [
    "Circuit : 13"
   ]
  },
  {
   "cell_type": "code",
   "execution_count": 18,
   "id": "238e3271-4293-412e-bc40-de285e65bb33",
   "metadata": {
    "tags": []
   },
   "outputs": [
    {
     "name": "stdout",
     "output_type": "stream",
     "text": [
      "(<qiskit.circuit.quantumcircuit.QuantumCircuit object at 0x7f8d252c0280>, 16)\n"
     ]
    }
   ],
   "source": [
    "qc = QuantumCircuit(4)\n",
    "theta = ParameterVector('θ', 16)\n",
    "\n",
    "qc.ry(theta[0],0)\n",
    "qc.ry(theta[1],1)\n",
    "qc.ry(theta[2],2)\n",
    "qc.ry(theta[3],3)\n",
    "\n",
    "qc.barrier()\n",
    "\n",
    "qc.crz(theta[4],3,0)\n",
    "qc.crz(theta[5],2,3)\n",
    "qc.crz(theta[6],1,2)\n",
    "qc.crz(theta[7],0,1)\n",
    "\n",
    "qc.barrier()\n",
    "\n",
    "qc.ry(theta[8],0)\n",
    "qc.ry(theta[9],1)\n",
    "qc.ry(theta[10],2)\n",
    "qc.ry(theta[11],3)\n",
    "\n",
    "qc.barrier()\n",
    "\n",
    "qc.crz(theta[12],3,2)\n",
    "qc.crz(theta[13],0,3)\n",
    "qc.crz(theta[14],1,0)\n",
    "qc.crz(theta[15],2,1)\n",
    "\n",
    "qc13 = (qc,len(theta))\n",
    "print(qc13)"
   ]
  },
  {
   "cell_type": "markdown",
   "id": "f974f2a8-6015-45d3-b88f-4a1376c844ea",
   "metadata": {},
   "source": [
    "Circuit : 14"
   ]
  },
  {
   "cell_type": "code",
   "execution_count": 19,
   "id": "487247bc-ac7f-4a49-a72f-379690ffa3b4",
   "metadata": {
    "tags": []
   },
   "outputs": [
    {
     "name": "stdout",
     "output_type": "stream",
     "text": [
      "(<qiskit.circuit.quantumcircuit.QuantumCircuit object at 0x7f8d24e95960>, 16)\n"
     ]
    }
   ],
   "source": [
    "qc = QuantumCircuit(4)\n",
    "theta = ParameterVector('θ', 16)\n",
    "\n",
    "qc.ry(theta[0],0)\n",
    "qc.ry(theta[1],1)\n",
    "qc.ry(theta[2],2)\n",
    "qc.ry(theta[3],3)\n",
    "\n",
    "qc.barrier()\n",
    "\n",
    "qc.crx(theta[4],3,0)\n",
    "qc.crx(theta[5],2,3)\n",
    "qc.crx(theta[6],1,2)\n",
    "qc.crx(theta[7],0,1)\n",
    "\n",
    "qc.barrier()\n",
    "\n",
    "qc.ry(theta[8],0)\n",
    "qc.ry(theta[9],1)\n",
    "qc.ry(theta[10],2)\n",
    "qc.ry(theta[11],3)\n",
    "\n",
    "qc.barrier()\n",
    "\n",
    "qc.crx(theta[12],3,2)\n",
    "qc.crx(theta[13],0,3)\n",
    "qc.crx(theta[14],1,0)\n",
    "qc.crx(theta[15],2,1)\n",
    "\n",
    "qc14 = (qc,len(theta))\n",
    "print(qc14)"
   ]
  },
  {
   "cell_type": "markdown",
   "id": "9889cbd7-6b26-4aa6-8db8-259eba33d4ef",
   "metadata": {},
   "source": [
    "Circuit : 15"
   ]
  },
  {
   "cell_type": "code",
   "execution_count": 20,
   "id": "02715b2e-9140-4f53-86ec-2357d8f6d278",
   "metadata": {
    "tags": []
   },
   "outputs": [
    {
     "name": "stdout",
     "output_type": "stream",
     "text": [
      "(<qiskit.circuit.quantumcircuit.QuantumCircuit object at 0x7f8d24e94f40>, 8)\n"
     ]
    }
   ],
   "source": [
    "qc = QuantumCircuit(4)\n",
    "theta = ParameterVector('θ', 8)\n",
    "\n",
    "qc.ry(theta[0],0)\n",
    "qc.ry(theta[1],1)\n",
    "qc.ry(theta[2],2)\n",
    "qc.ry(theta[3],3)\n",
    "\n",
    "qc.barrier()\n",
    "\n",
    "qc.cx(3,0)\n",
    "qc.cx(2,3)\n",
    "qc.cx(1,2)\n",
    "qc.cx(0,1)\n",
    "\n",
    "qc.barrier()\n",
    "\n",
    "qc.ry(theta[4],0)\n",
    "qc.ry(theta[5],1)\n",
    "qc.ry(theta[6],2)\n",
    "qc.ry(theta[7],3)\n",
    "\n",
    "qc.barrier()\n",
    "\n",
    "qc.cx(3,2)\n",
    "qc.cx(0,3)\n",
    "qc.cx(1,0)\n",
    "qc.cx(2,1)\n",
    "\n",
    "qc15 = (qc,len(theta))\n",
    "print(qc15)"
   ]
  },
  {
   "cell_type": "markdown",
   "id": "885c4028-1e1f-4cf0-ade6-ccd2d2c9f459",
   "metadata": {},
   "source": [
    "Circuit : 16"
   ]
  },
  {
   "cell_type": "code",
   "execution_count": 21,
   "id": "1b04be70-7108-4d7a-820b-b6b7af867a48",
   "metadata": {
    "tags": []
   },
   "outputs": [
    {
     "name": "stdout",
     "output_type": "stream",
     "text": [
      "(<qiskit.circuit.quantumcircuit.QuantumCircuit object at 0x7f8d24e74670>, 11)\n"
     ]
    }
   ],
   "source": [
    "qc = QuantumCircuit(4)\n",
    "theta = ParameterVector('θ', 11)\n",
    "\n",
    "qc.rx(theta[0],0)\n",
    "qc.rz(theta[1],0)\n",
    "\n",
    "qc.rx(theta[2],1)\n",
    "qc.rz(theta[3],1)\n",
    "\n",
    "qc.rx(theta[4],2)\n",
    "qc.rz(theta[5],2)\n",
    "\n",
    "qc.rx(theta[6],3)\n",
    "qc.rz(theta[7],3)\n",
    "\n",
    "qc.crz(theta[8],3,2)\n",
    "qc.crz(theta[10],1,0)\n",
    "qc.crz(theta[9],2,1)\n",
    "\n",
    "qc16 = (qc,len(theta))\n",
    "print(qc16)"
   ]
  },
  {
   "cell_type": "markdown",
   "id": "f86dfd54-5b5f-4847-a661-bf0fa59e0b6c",
   "metadata": {},
   "source": [
    "Circuit : 17"
   ]
  },
  {
   "cell_type": "code",
   "execution_count": 22,
   "id": "f2a388e8-aac8-41be-b2ef-05ed88bfbc30",
   "metadata": {
    "tags": []
   },
   "outputs": [
    {
     "name": "stdout",
     "output_type": "stream",
     "text": [
      "(<qiskit.circuit.quantumcircuit.QuantumCircuit object at 0x7f8d24e96bc0>, 11)\n"
     ]
    }
   ],
   "source": [
    "qc = QuantumCircuit(4)\n",
    "theta = ParameterVector('θ', 11)\n",
    "\n",
    "qc.rx(theta[0],0)\n",
    "qc.rz(theta[1],0)\n",
    "\n",
    "qc.rx(theta[2],1)\n",
    "qc.rz(theta[3],1)\n",
    "\n",
    "qc.rx(theta[4],2)\n",
    "qc.rz(theta[5],2)\n",
    "\n",
    "qc.rx(theta[6],3)\n",
    "qc.rz(theta[7],3)\n",
    "\n",
    "qc.crx(theta[8],3,2)\n",
    "qc.crx(theta[10],1,0)\n",
    "qc.crx(theta[9],2,1)\n",
    "\n",
    "qc17 = (qc,len(theta))\n",
    "print(qc17)"
   ]
  },
  {
   "cell_type": "markdown",
   "id": "37c0d015-4270-4aa4-8f66-d093fa9b56d4",
   "metadata": {},
   "source": [
    "Circuit : 18"
   ]
  },
  {
   "cell_type": "code",
   "execution_count": 23,
   "id": "611a06f9-d82b-4fd2-aa97-2451371f4178",
   "metadata": {
    "tags": []
   },
   "outputs": [
    {
     "name": "stdout",
     "output_type": "stream",
     "text": [
      "(<qiskit.circuit.quantumcircuit.QuantumCircuit object at 0x7f8d24e96ce0>, 12)\n"
     ]
    }
   ],
   "source": [
    "qc = QuantumCircuit(4)\n",
    "theta = ParameterVector('θ', 12)\n",
    "\n",
    "qc.rx(theta[0],0)\n",
    "qc.rz(theta[1],0)\n",
    "\n",
    "qc.rx(theta[2],1)\n",
    "qc.rz(theta[3],1)\n",
    "\n",
    "qc.rx(theta[4],2)\n",
    "qc.rz(theta[5],2)\n",
    "\n",
    "qc.rx(theta[6],3)\n",
    "qc.rz(theta[7],3)\n",
    "\n",
    "qc.crz(theta[11],3,0)\n",
    "qc.crz(theta[8],2,3)\n",
    "qc.crz(theta[9],1,2)\n",
    "qc.crz(theta[10],0,1)\n",
    "\n",
    "qc18 = (qc,len(theta))\n",
    "print(qc18)"
   ]
  },
  {
   "cell_type": "markdown",
   "id": "a6c9d117-791e-454b-a799-50367e81e870",
   "metadata": {},
   "source": [
    "Circuit : 19"
   ]
  },
  {
   "cell_type": "code",
   "execution_count": 43,
   "id": "6e1acccb-5cf0-474a-be67-2b682b4a477c",
   "metadata": {
    "tags": []
   },
   "outputs": [],
   "source": [
    "qc = QuantumCircuit(4)\n",
    "theta = ParameterVector('θ', 12)\n",
    "\n",
    "qc.rx(theta[0],0)\n",
    "qc.rz(theta[1],0)\n",
    "\n",
    "qc.rx(theta[2],1)\n",
    "qc.rz(theta[3],1)\n",
    "\n",
    "qc.rx(theta[4],2)\n",
    "qc.rz(theta[5],2)\n",
    "\n",
    "qc.rx(theta[6],3)\n",
    "qc.rz(theta[7],3)\n",
    "\n",
    "qc.crx(theta[11],3,0)\n",
    "qc.crx(theta[8],2,3)\n",
    "qc.crx(theta[9],1,2)\n",
    "qc.crx(theta[10],0,1)\n",
    "\n",
    "\n",
    "qc19 = (qc,len(theta))\n",
    "\n",
    "del(qc)\n",
    "del(theta)\n"
   ]
  },
  {
   "cell_type": "code",
   "execution_count": 24,
   "id": "1ccfb6a8-54d9-425c-82be-bc0f5fb87eb7",
   "metadata": {
    "tags": []
   },
   "outputs": [],
   "source": [
    "def generate_uniform_angles(n):\n",
    "    return 2 * np.pi * np.random.rand(n)\n"
   ]
  },
  {
   "cell_type": "code",
   "execution_count": 28,
   "id": "7df3910c-cac1-4f86-b8ed-52b1f18bf8d8",
   "metadata": {
    "tags": []
   },
   "outputs": [],
   "source": [
    "def add_layer(q,l):\n",
    "    ans = QuantumCircuit(4)\n",
    "    for i in range(l):\n",
    "        theta = ParameterVector(\"x\"+f\"{i}\",q[1])\n",
    "        add = q[0].assign_parameters(theta)\n",
    "        ans.compose(add,inplace=True)\n",
    "    return ans"
   ]
  },
  {
   "cell_type": "code",
   "execution_count": 31,
   "id": "e9706814-3af3-4c24-8f28-02c5d37a67f1",
   "metadata": {
    "tags": []
   },
   "outputs": [],
   "source": [
    "from scipy.special import rel_entr\n",
    "bins_list=[];\n",
    "for i in range(76):\n",
    "    bins_list.append((i)/75)\n",
    "    \n",
    "bins_x=[]    \n",
    "for i in range(75):\n",
    "    bins_x.append(bins_list[1]+bins_list[i])\n",
    "\n",
    "def P_harr(l,u,N):\n",
    "    return (1-l)**(N-1)-(1-u)**(N-1)\n",
    "\n",
    "P_harr_hist=[]\n",
    "for i in range(75):\n",
    "    P_harr_hist.append(P_harr(bins_list[i],bins_list[i+1],16))\n",
    "\n",
    "\n",
    "def final_job(q,j,l):\n",
    "    fid = []\n",
    "    for i in range(2000):\n",
    "        x1 = generate_uniform_angles(l*q[1])\n",
    "        x2 = generate_uniform_angles(l*q[1])\n",
    "        circ = add_layer(q,l)\n",
    "        q1 = circ.bind_parameters(x1)\n",
    "        q2 = circ.bind_parameters(x2)\n",
    "        s1 = qi.Statevector.from_instruction(q1)\n",
    "        s2 = qi.Statevector.from_instruction(q2)\n",
    "        f = state_fidelity(s1, s2, validate=True)\n",
    "        fid.append(f)\n",
    "    weights = np.ones_like(fid)/float(len(fid))\n",
    "    P_1_hist=np.histogram(fid, bins=bins_list, weights=weights, range=[0, 1])[0]\n",
    "    kl_pq = rel_entr(P_1_hist, P_harr_hist)\n",
    "    divergence = sum(kl_pq)\n",
    "    return fid,weights,divergence\n",
    "\n",
    "\n",
    "# plt.figure(figsize=(2,2))\n",
    "# plt.hist(fid, bins=bins_list,weights = weights, range=[0, 1],label = 'Circuit : ' + str(j) + 'with L = ' + str(l))\n",
    "# plt.plot(bins_x, P_harr_hist, label='Harr')\n",
    "# plt.legend(loc='upper right')"
   ]
  },
  {
   "cell_type": "code",
   "execution_count": 32,
   "id": "27cef63c-0b86-486f-97c2-5839726b5d6f",
   "metadata": {
    "tags": []
   },
   "outputs": [
    {
     "name": "stdout",
     "output_type": "stream",
     "text": [
      "['qc1', 'qc2', 'qc3', 'qc4', 'qc5', 'qc6', 'qc7', 'qc8', 'qc9', 'qc10', 'qc11', 'qc12', 'qc13', 'qc14', 'qc15', 'qc16', 'qc17', 'qc18', 'qc19']\n"
     ]
    }
   ],
   "source": [
    "circuits = [f'qc{i}' for i in range(1,20)]\n",
    "print(circuits)"
   ]
  },
  {
   "cell_type": "code",
   "execution_count": 38,
   "id": "7a0da48e-d1f6-4796-b90c-1d9318b327bb",
   "metadata": {
    "tags": []
   },
   "outputs": [
    {
     "name": "stdout",
     "output_type": "stream",
     "text": [
      "KL(P || Q): 0.285 nats\n"
     ]
    },
    {
     "data": {
      "image/png": "[encoded data removed]",
      "text/plain": [
       "<Figure size 200x200 with 1 Axes>"
      ]
     },
     "metadata": {},
     "output_type": "display_data"
    }
   ],
   "source": [
    "#Example showing expressibilty of Circuit:2 with 1 Layer\n",
    "f,w,d = final_job(qc2,2,1)\n",
    "plt.figure(figsize=(2,2))\n",
    "plt.hist(f, bins=bins_list,weights = w, range=[0, 1],label = 'Circuit:' + str(9) + ' with L = ' + str(1))\n",
    "plt.plot(bins_x, P_harr_hist, label='Harr')\n",
    "plt.legend(loc='upper right',fontsize=7)\n",
    "print('KL(P || Q): %.3f nats' % d)"
   ]
  },
  {
   "cell_type": "code",
   "execution_count": 37,
   "id": "eb473470-1fdd-4b63-befa-d0caf206dda4",
   "metadata": {
    "tags": []
   },
   "outputs": [
    {
     "name": "stdout",
     "output_type": "stream",
     "text": [
      "KL(P || Q): 0.016 nats\n"
     ]
    },
    {
     "data": {
      "image/png": "[encoded data removed]",
      "text/plain": [
       "<Figure size 200x200 with 1 Axes>"
      ]
     },
     "metadata": {},
     "output_type": "display_data"
    }
   ],
   "source": [
    "#Example showing expressibilty of Circuit:2 with 3 Layers\n",
    "f,w,d = final_job(qc2,2,3)\n",
    "plt.figure(figsize=(2,2))\n",
    "plt.hist(f, bins=bins_list,weights = w, range=[0, 1],label = 'Circuit:' + str(9) + ' with L = ' + str(3))\n",
    "plt.plot(bins_x, P_harr_hist, label='Harr')\n",
    "plt.legend(loc='upper right',fontsize=7)\n",
    "print('KL(P || Q): %.3f nats' % d)"
   ]
  },
  {
   "cell_type": "code",
   "execution_count": null,
   "id": "b05bb685-2e37-4ac9-81d6-5c57e8c01173",
   "metadata": {
    "scrolled": true,
    "tags": []
   },
   "outputs": [],
   "source": [
    "circ_id = 0\n",
    "div_list = [[] for i in range(19)]\n",
    "fid_list =[[] for i in range(19)]\n",
    "weight_list=[[] for i in range(19)]\n",
    "for name in circuits:\n",
    "    circ_id+= 1\n",
    "    curr_circ= eval(name)\n",
    "    for L in range(1,6):\n",
    "        fid,weights,div = final_job(curr_circ,circ_id,L)\n",
    "        div_list[circ_id-1].append(div)\n",
    "        fid_list[circ_id-1].append(fid)\n",
    "    weight_list[circ_id-1].append(weights)"
   ]
  },
  {
   "cell_type": "code",
   "execution_count": 52,
   "id": "467cf5df-30ce-4d44-a211-7000add37356",
   "metadata": {
    "tags": []
   },
   "outputs": [
    {
     "name": "stdout",
     "output_type": "stream",
     "text": [
      "[[0.3304454791783175, 0.24449488403361666, 0.20025111415598099, 0.22496540211482194, 0.19445741213295842], [0.3654472315332871, 0.026427479302971256, 0.010453569249608184, 0.01322903183990876, 0.007757375384400333], [0.27588324926204627, 0.08012511938434724, 0.03791664936114637, 0.029483840435946002, 0.035199281231644626], [0.1584595322262457, 0.047901292726616584, 0.01831112419345508, 0.010789089480679144, 0.011744797376025556], [0.06286570828122491, 0.006568270765056498, 0.009229921265567154, 0.009113440579226932, 0.007892880027914736], [0.010096891239935818, 0.0070384729749328415, 0.01034239672441805, 0.008556192185988108, 0.011039308331453576], [0.12087158391288107, 0.05544634782764301, 0.019688264582234348, 0.015704291931767745, 0.012863640905752594], [0.08164815147128636, 0.02540100019955815, 0.016701714832565055, 0.010463775583180889, 0.005894292526704541], [0.6467797083576953, 0.43620353862223715, 0.0351720537095697, 0.00991985045815232, 0.0060062930660526315], [0.2546296031867218, 0.15489098368831217, 0.14096962491371753, 0.13807606676995374, 0.1752828901768265], [0.15885996523644821, 0.01924553263779239, 0.013676755403958239, 0.008802958223723237, 0.011233643318476039], [0.17836912824076567, 0.03632017592596252, 0.015290855023808421, 0.008560939001213155, 0.01073852239080378], [0.06249386964413568, 0.012056675536964323, 0.01320019533859914, 0.009648645143238146, 0.014427093862231611], [0.02235535338761995, 0.010467893331500167, 0.010894163701416224, 0.008282423723000141, 0.006671805027448746], [0.17869622148496828, 0.13966331724733064, 0.11101908728237445, 0.11782356770308364, 0.14314587723623454], [0.24532125374496044, 0.09511613406990073, 0.03844532196407717, 0.037758511859326827, 0.022410717441751535], [0.15410336406735295, 0.036546577777513536, 0.0213198751785152, 0.013013136771400083, 0.00526441761175513], [0.23810199667833679, 0.08493434208230463, 0.023408517738092882, 0.013167898697550605, 0.010983810254699387], [0.08708677466890127, 0.007602148202065659, 0.013010603161343864, 0.0100886437192839, 0.010938341532247181]]\n",
      "------------------------------------------------------------------------------------------\n"
     ]
    }
   ],
   "source": [
    "arr = div_list\n",
    "print(arr)\n",
    "print_dotted_line(30)\n"
   ]
  },
  {
   "cell_type": "code",
   "execution_count": 287,
   "id": "690d069c-41d1-468c-92ee-6180a30497a9",
   "metadata": {
    "tags": []
   },
   "outputs": [
    {
     "data": {
      "text/plain": [
       "<matplotlib.legend.Legend at 0x7f25f3bb28f0>"
      ]
     },
     "execution_count": 287,
     "metadata": {},
     "output_type": "execute_result"
    },
    {
     "data": {
      "image/png": "[encoded data removed]",
      "text/plain": [
       "<Figure size 640x480 with 1 Axes>"
      ]
     },
     "metadata": {},
     "output_type": "display_data"
    }
   ],
   "source": [
    "plt.hist(fid_list[0][0], bins=bins_list,weights = weight_list[0][0], range=[0, 1],label = 'Circuit:' + str(1) + ' with L = ' + str(1))\n",
    "plt.plot(bins_x, P_harr_hist, label='Harr')\n",
    "plt.legend(loc='upper right')"
   ]
  },
  {
   "cell_type": "code",
   "execution_count": 44,
   "id": "080e05e0-f5c9-4906-b604-ade860771034",
   "metadata": {
    "tags": []
   },
   "outputs": [
    {
     "data": {
      "text/plain": [
       "<matplotlib.legend.Legend at 0x7f8d2431fdc0>"
      ]
     },
     "execution_count": 44,
     "metadata": {},
     "output_type": "execute_result"
    },
    {
     "data": {
      "image/png": "[encoded data removed]",
      "text/plain": [
       "<Figure size 640x480 with 1 Axes>"
      ]
     },
     "metadata": {},
     "output_type": "display_data"
    }
   ],
   "source": [
    "plt.hist(fid_list[0][1], bins=bins_list,weights = weight_list[0][0], range=[0, 1],label = 'Circuit:' + str(1) + ' with L = ' + str(2))\n",
    "plt.plot(bins_x, P_harr_hist, label='Harr')\n",
    "plt.legend(loc='upper right')"
   ]
  },
  {
   "cell_type": "code",
   "execution_count": 49,
   "id": "6123204d-256a-4a7f-b3b7-ec5120717535",
   "metadata": {
    "tags": []
   },
   "outputs": [
    {
     "data": {
      "image/png": "[encoded data removed]",
      "text/plain": [
       "<Figure size 640x480 with 1 Axes>"
      ]
     },
     "metadata": {},
     "output_type": "display_data"
    }
   ],
   "source": [
    "import pandas as pd\n",
    "\n",
    "\n",
    "\n",
    "x = [i+1 for i in range(19)]\n",
    "y = [i[0] for i in arr]\n",
    "plt.plot(x, y, 'o', color='red', label='L=1');\n",
    "x = [i+1 for i in range(19)]\n",
    "y = [i[1] for i in arr]\n",
    "plt.plot(x, y, 'o', color='blue', label='L=2');\n",
    "x = [i+1 for i in range(19)]\n",
    "y = [i[2] for i in arr]\n",
    "plt.plot(x, y, 'o', color='black', label='L=3');\n",
    "x = [i+1 for i in range(19)]\n",
    "y = [i[3] for i in arr]\n",
    "plt.plot(x, y, 'o', color='green', label='L=4');\n",
    "x = [i+1 for i in range(19)]\n",
    "y = [i[4] for i in arr]\n",
    "plt.plot(x, y, 'o', color='purple', label='L=5');\n",
    "plt.legend(loc='upper right',fontsize=5)\n",
    "\n",
    "plt.yscale('log',base=10) \n",
    "plt.xlabel('Circuit ID')\n",
    "plt.ylabel('Expressibility')\n",
    "\n",
    "# Create names on the x axis\n",
    "plt.xticks([i+1 for i in range(19)])\n",
    "plt.show()"
   ]
  },
  {
   "cell_type": "code",
   "execution_count": 50,
   "id": "fe7a4ac8-3e8e-49cd-9705-210405c9da53",
   "metadata": {
    "tags": []
   },
   "outputs": [
    {
     "data": {
      "image/png": "[encoded data removed]",
      "text/plain": [
       "<Figure size 640x480 with 1 Axes>"
      ]
     },
     "metadata": {},
     "output_type": "display_data"
    }
   ],
   "source": [
    "x = [str(i+1) for i in range(19)]\n",
    "x_ticks_labels = ['9','1','2','16','3','18','10','12','15','17','4','11','7','8','19','5','13','14','6']\n",
    "xarr = np.array(x)\n",
    "ind = np.where(xarr.reshape(xarr.size, 1) == np.array(x_ticks_labels))[1]\n",
    "\n",
    "\n",
    "\n",
    "\n",
    "fig, ax = plt.subplots(1,1) \n",
    "y = [i[0] for i in arr]\n",
    "ax.scatter(ind,y, marker=\"o\", color='red', label='L=1')\n",
    "y = [i[1] for i in arr]\n",
    "ax.scatter(ind,y, marker=\"o\", color='blue', label='L=2')\n",
    "y = [i[2] for i in arr]\n",
    "ax.scatter(ind,y, marker=\"o\", color='black', label='L=3')\n",
    "y = [i[3] for i in arr]\n",
    "ax.scatter(ind,y, marker=\"o\", color='green', label='L=4')\n",
    "y = [i[4] for i in arr]\n",
    "ax.scatter(ind,y, marker=\"o\", color='purple', label='L=5')\n",
    "\n",
    "ax.set_yscale('log',base=10) \n",
    "ax.set_xlabel('Circuit ID')\n",
    "ax.set_ylabel('Expressibility')\n",
    "ax.legend(loc='upper right')\n",
    "\n",
    "ax.set_xticks(range(len(x_ticks_labels)))\n",
    "ax.set_xticklabels(x_ticks_labels)\n",
    "\n",
    "plt.show()"
   ]
  }
 ],
 "metadata": {
  "kernelspec": {
   "display_name": "Python 3 (ipykernel)",
   "language": "python",
   "name": "python3"
  },
  "language_info": {
   "codemirror_mode": {
    "name": "ipython",
    "version": 3
   },
   "file_extension": ".py",
   "mimetype": "text/x-python",
   "name": "python",
   "nbconvert_exporter": "python",
   "pygments_lexer": "ipython3",
   "version": "3.10.8"
  },
  "widgets": {
   "application/vnd.jupyter.widget-state+json": {
    "state": {
     "031f6db3609c413995b9789bace9deea": {
      "model_module": "@jupyter-widgets/base",
      "model_module_version": "2.0.0",
      "model_name": "LayoutModel",
      "state": {}
     },
     "2e6d5df74b924b4fa5881ed39ee2f077": {
      "model_module": "@jupyter-widgets/base",
      "model_module_version": "2.0.0",
      "model_name": "LayoutModel",
      "state": {
       "margin": "0px 0px 0px 37px",
       "width": "600px"
      }
     },
     "50f434cb27924e329495cb2a565b7175": {
      "model_module": "@jupyter-widgets/controls",
      "model_module_version": "2.0.0",
      "model_name": "HTMLModel",
      "state": {
       "layout": "IPY_MODEL_a367d6b4d1164306bad25ed10556ffe4",
       "style": "IPY_MODEL_71dfeda7a2934580a1cae5908b9cbd53",
       "value": "<h5>Backend</h5>"
      }
     },
     "52ebf7fb6cbd4a7b8bf385770c86dd14": {
      "model_module": "@jupyter-widgets/controls",
      "model_module_version": "2.0.0",
      "model_name": "HTMLStyleModel",
      "state": {
       "description_width": "",
       "font_size": null,
       "text_color": null
      }
     },
     "6020ae343b0040398a4cd879df667b78": {
      "model_module": "@jupyter-widgets/controls",
      "model_module_version": "2.0.0",
      "model_name": "HTMLStyleModel",
      "state": {
       "description_width": "",
       "font_size": null,
       "text_color": null
      }
     },
     "71dfeda7a2934580a1cae5908b9cbd53": {
      "model_module": "@jupyter-widgets/controls",
      "model_module_version": "2.0.0",
      "model_name": "HTMLStyleModel",
      "state": {
       "description_width": "",
       "font_size": null,
       "text_color": null
      }
     },
     "7305ab4bb87343d6bbe581d50ec87f63": {
      "model_module": "@jupyter-widgets/controls",
      "model_module_version": "2.0.0",
      "model_name": "HTMLModel",
      "state": {
       "layout": "IPY_MODEL_a7dc9000ec9e4543af903770528b9ee4",
       "style": "IPY_MODEL_874f98fcac7048bca2c0bac94faf3d90",
       "value": "<h5>Queue</h5>"
      }
     },
     "75c7164befe147c187604d67c5642aa1": {
      "model_module": "@jupyter-widgets/controls",
      "model_module_version": "2.0.0",
      "model_name": "HTMLModel",
      "state": {
       "layout": "IPY_MODEL_031f6db3609c413995b9789bace9deea",
       "style": "IPY_MODEL_ba0696fd133345eeae17dbebbf559249",
       "value": "<h5>Message</h5>"
      }
     },
     "76351bc3cedf4f4fa44480d54095ebd3": {
      "model_module": "@jupyter-widgets/base",
      "model_module_version": "2.0.0",
      "model_name": "LayoutModel",
      "state": {
       "margin": "0px 0px 10px 0px"
      }
     },
     "7bbc8bea4e8644f28ccc6d6555c7ae98": {
      "model_module": "@jupyter-widgets/controls",
      "model_module_version": "2.0.0",
      "model_name": "HTMLModel",
      "state": {
       "layout": "IPY_MODEL_d5be406c2da7410e8e242e8a3d0e17f0",
       "style": "IPY_MODEL_6020ae343b0040398a4cd879df667b78",
       "value": "<h5>Job ID</h5>"
      }
     },
     "7dfdc4f7cdf44008b4bf821b9c67f204": {
      "model_module": "@jupyter-widgets/controls",
      "model_module_version": "2.0.0",
      "model_name": "HTMLModel",
      "state": {
       "layout": "IPY_MODEL_8a597f772f0248f1b7d770b2857e2a45",
       "style": "IPY_MODEL_9b042178688848709128ff0c810a7f27",
       "value": "<h5>Status</h5>"
      }
     },
     "874f98fcac7048bca2c0bac94faf3d90": {
      "model_module": "@jupyter-widgets/controls",
      "model_module_version": "2.0.0",
      "model_name": "HTMLStyleModel",
      "state": {
       "description_width": "",
       "font_size": null,
       "text_color": null
      }
     },
     "8a597f772f0248f1b7d770b2857e2a45": {
      "model_module": "@jupyter-widgets/base",
      "model_module_version": "2.0.0",
      "model_name": "LayoutModel",
      "state": {
       "width": "95px"
      }
     },
     "8a6222feafb0429b8af113567a9942d4": {
      "model_module": "@jupyter-widgets/controls",
      "model_module_version": "2.0.0",
      "model_name": "ButtonStyleModel",
      "state": {
       "font_family": null,
       "font_size": null,
       "font_style": null,
       "font_variant": null,
       "font_weight": null,
       "text_color": null,
       "text_decoration": null
      }
     },
     "94b09654f3a84d109b94395561611dbe": {
      "model_module": "@jupyter-widgets/base",
      "model_module_version": "2.0.0",
      "model_name": "LayoutModel",
      "state": {
       "grid_template_areas": "\n                                       \". . . . right \"\n                                        ",
       "grid_template_columns": "20% 20% 20% 20% 20%",
       "width": "100%"
      }
     },
     "95a85f73aa34475589ab71864b272cd0": {
      "model_module": "@jupyter-widgets/base",
      "model_module_version": "2.0.0",
      "model_name": "LayoutModel",
      "state": {
       "grid_area": "right",
       "padding": "0px 0px 0px 0px",
       "width": "70px"
      }
     },
     "9b042178688848709128ff0c810a7f27": {
      "model_module": "@jupyter-widgets/controls",
      "model_module_version": "2.0.0",
      "model_name": "HTMLStyleModel",
      "state": {
       "description_width": "",
       "font_size": null,
       "text_color": null
      }
     },
     "a2f09bae7c3442bea9ff147979eda867": {
      "model_module": "@jupyter-widgets/controls",
      "model_module_version": "2.0.0",
      "model_name": "HBoxModel",
      "state": {
       "children": [
        "IPY_MODEL_7bbc8bea4e8644f28ccc6d6555c7ae98",
        "IPY_MODEL_50f434cb27924e329495cb2a565b7175",
        "IPY_MODEL_7dfdc4f7cdf44008b4bf821b9c67f204",
        "IPY_MODEL_7305ab4bb87343d6bbe581d50ec87f63",
        "IPY_MODEL_75c7164befe147c187604d67c5642aa1"
       ],
       "layout": "IPY_MODEL_2e6d5df74b924b4fa5881ed39ee2f077"
      }
     },
     "a367d6b4d1164306bad25ed10556ffe4": {
      "model_module": "@jupyter-widgets/base",
      "model_module_version": "2.0.0",
      "model_name": "LayoutModel",
      "state": {
       "width": "145px"
      }
     },
     "a7dc9000ec9e4543af903770528b9ee4": {
      "model_module": "@jupyter-widgets/base",
      "model_module_version": "2.0.0",
      "model_name": "LayoutModel",
      "state": {
       "width": "70px"
      }
     },
     "b902df6a7a7e4a2183e18f5c7e4c7eb0": {
      "model_module": "@jupyter-widgets/controls",
      "model_module_version": "2.0.0",
      "model_name": "ButtonModel",
      "state": {
       "button_style": "primary",
       "description": "Clear",
       "layout": "IPY_MODEL_95a85f73aa34475589ab71864b272cd0",
       "style": "IPY_MODEL_8a6222feafb0429b8af113567a9942d4",
       "tooltip": null
      }
     },
     "ba0696fd133345eeae17dbebbf559249": {
      "model_module": "@jupyter-widgets/controls",
      "model_module_version": "2.0.0",
      "model_name": "HTMLStyleModel",
      "state": {
       "description_width": "",
       "font_size": null,
       "text_color": null
      }
     },
     "d5be406c2da7410e8e242e8a3d0e17f0": {
      "model_module": "@jupyter-widgets/base",
      "model_module_version": "2.0.0",
      "model_name": "LayoutModel",
      "state": {
       "width": "190px"
      }
     },
     "dc09746d7e6a4d569efbc7449f546373": {
      "model_module": "@jupyter-widgets/controls",
      "model_module_version": "2.0.0",
      "model_name": "HTMLModel",
      "state": {
       "layout": "IPY_MODEL_76351bc3cedf4f4fa44480d54095ebd3",
       "style": "IPY_MODEL_52ebf7fb6cbd4a7b8bf385770c86dd14",
       "value": "<p style='font-family: IBM Plex Sans, Arial, Helvetica, sans-serif; font-size: 20px; font-weight: medium;'>Circuit Properties</p>"
      }
     },
     "f4afd5ac7dad48a8b980280b585fd506": {
      "model_module": "@jupyter-widgets/controls",
      "model_module_version": "2.0.0",
      "model_name": "GridBoxModel",
      "state": {
       "children": [
        "IPY_MODEL_b902df6a7a7e4a2183e18f5c7e4c7eb0"
       ],
       "layout": "IPY_MODEL_94b09654f3a84d109b94395561611dbe"
      }
     }
    },
    "version_major": 2,
    "version_minor": 0
   }
  }
 },
 "nbformat": 4,
 "nbformat_minor": 5
}
