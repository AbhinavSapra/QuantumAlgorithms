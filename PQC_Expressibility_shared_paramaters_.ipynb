{
 "cells": [
  {
   "cell_type": "code",
   "execution_count": 259,
   "id": "0023d1c6-f98b-470c-932f-40ff6b7956d0",
   "metadata": {
    "tags": []
   },
   "outputs": [],
   "source": [
    "# Importing standard Qiskit libraries\n",
    "from qiskit import QuantumCircuit, Aer, transpile, assemble, execute\n",
    "from qiskit.tools.jupyter import *\n",
    "from qiskit.visualization import *\n",
    "from ibm_quantum_widgets import *\n",
    "import math\n",
    "import qiskit.quantum_info as qi\n",
    "from qiskit.quantum_info import Statevector\n",
    "import matplotlib.pyplot as plt\n",
    "import pylatexenc\n",
    "from qiskit.quantum_info import state_fidelity \n",
    "import numpy as np\n",
    "# qiskit-ibmq-provider has been deprecated.\n",
    "# Please see the Migration Guides in https://ibm.biz/provider_migration_guide for more detail.\n",
    "from qiskit_ibm_runtime import QiskitRuntimeService, Sampler, Estimator, Session, Options\n",
    "\n",
    "# Loading your IBM Quantum account(s)\n",
    "service = QiskitRuntimeService(channel=\"ibm_quantum\")\n",
    "from qiskit.circuit import ParameterVector\n",
    "# Invoke a primitive. For more details see https://docs.quantum-computing.ibm.com/run/primitives\n",
    "# result = Sampler().run(circuits).result()"
   ]
  },
  {
   "cell_type": "code",
   "execution_count": 260,
   "id": "abb937ad-7a01-43ec-88a6-90f8aa5e32e5",
   "metadata": {
    "tags": []
   },
   "outputs": [],
   "source": [
    "def print_dotted_line(length):\n",
    "    dotted_line = '---' * length\n",
    "    print(dotted_line)"
   ]
  },
  {
   "cell_type": "markdown",
   "id": "7bb2d5a5-9519-4136-8136-c343e01810de",
   "metadata": {},
   "source": [
    "CIRCUIT : 1"
   ]
  },
  {
   "cell_type": "code",
   "execution_count": 261,
   "id": "db69df18-339b-4fcf-a6c5-c6c5433d557b",
   "metadata": {},
   "outputs": [
    {
     "name": "stdout",
     "output_type": "stream",
     "text": [
      "(<qiskit.circuit.quantumcircuit.QuantumCircuit object at 0x7f25f3ea63e0>, 8)\n"
     ]
    }
   ],
   "source": [
    "qc = QuantumCircuit(4)\n",
    "theta = ParameterVector('θ', 8)\n",
    "\n",
    "qc.rx(theta[0],0)\n",
    "qc.rz(theta[1],0)\n",
    "\n",
    "qc.rx(theta[2],1)\n",
    "qc.rz(theta[3],1)\n",
    "\n",
    "qc.rx(theta[4],2)\n",
    "qc.rz(theta[5],2)\n",
    "\n",
    "qc.rx(theta[6],3)\n",
    "qc.rz(theta[7],3)\n",
    "\n",
    "qc1 = (qc,len(theta))\n",
    "print(qc1)"
   ]
  },
  {
   "cell_type": "markdown",
   "id": "6d25a383-aa2e-4700-857e-f26027cc3d83",
   "metadata": {},
   "source": [
    "Circuit : 2"
   ]
  },
  {
   "cell_type": "code",
   "execution_count": 262,
   "id": "f3c3acc9-04f2-4a77-873d-65d3ac045247",
   "metadata": {},
   "outputs": [
    {
     "name": "stdout",
     "output_type": "stream",
     "text": [
      "(<qiskit.circuit.quantumcircuit.QuantumCircuit object at 0x7f25f2b7ee60>, 8)\n"
     ]
    }
   ],
   "source": [
    "qc = QuantumCircuit(4)\n",
    "theta = ParameterVector('θ', 8)\n",
    "\n",
    "qc.rx(theta[0],0)\n",
    "qc.rz(theta[1],0)\n",
    "\n",
    "qc.rx(theta[2],1)\n",
    "qc.rz(theta[3],1)\n",
    "\n",
    "qc.rx(theta[4],2)\n",
    "qc.rz(theta[5],2)\n",
    "\n",
    "qc.rx(theta[6],3)\n",
    "qc.rz(theta[7],3)\n",
    "\n",
    "qc.cx(3,2)\n",
    "qc.cx(2,1)\n",
    "qc.cx(1,0)\n",
    "\n",
    "qc2 = (qc,len(theta))\n",
    "print(qc2)"
   ]
  },
  {
   "cell_type": "markdown",
   "id": "46ad6294-0ce1-4c5a-ba02-38e0fd683430",
   "metadata": {},
   "source": [
    "Circuit : 3"
   ]
  },
  {
   "cell_type": "code",
   "execution_count": 263,
   "id": "ebdb77b7-08a8-4982-bd13-b2d9875e4a8d",
   "metadata": {},
   "outputs": [
    {
     "name": "stdout",
     "output_type": "stream",
     "text": [
      "(<qiskit.circuit.quantumcircuit.QuantumCircuit object at 0x7f25f3ea5e10>, 11)\n"
     ]
    }
   ],
   "source": [
    "qc = QuantumCircuit(4)\n",
    "theta = ParameterVector('θ', 11)\n",
    "\n",
    "qc.rx(theta[0],0)\n",
    "qc.rz(theta[1],0)\n",
    "\n",
    "qc.rx(theta[2],1)\n",
    "qc.rz(theta[3],1)\n",
    "\n",
    "qc.rx(theta[4],2)\n",
    "qc.rz(theta[5],2)\n",
    "\n",
    "qc.rx(theta[6],3)\n",
    "qc.rz(theta[7],3)\n",
    "\n",
    "qc.crz(theta[8],3,2)\n",
    "qc.crz(theta[9],2,1)\n",
    "qc.crz(theta[10],1,0)\n",
    "\n",
    "qc3 = (qc,len(theta))\n",
    "print(qc3)"
   ]
  },
  {
   "cell_type": "markdown",
   "id": "cf202d1f-5490-4a44-9175-b776dd68bb6d",
   "metadata": {
    "tags": []
   },
   "source": [
    "Circuit : 4"
   ]
  },
  {
   "cell_type": "code",
   "execution_count": 264,
   "id": "75d6b2e5-4777-4871-a704-913a8153aa49",
   "metadata": {},
   "outputs": [
    {
     "name": "stdout",
     "output_type": "stream",
     "text": [
      "(<qiskit.circuit.quantumcircuit.QuantumCircuit object at 0x7f25f2b7d180>, 11)\n"
     ]
    }
   ],
   "source": [
    "qc = QuantumCircuit(4)\n",
    "theta = ParameterVector('θ', 11)\n",
    "\n",
    "qc.rx(theta[0],0)\n",
    "qc.rz(theta[1],0)\n",
    "\n",
    "qc.rx(theta[2],1)\n",
    "qc.rz(theta[3],1)\n",
    "\n",
    "qc.rx(theta[4],2)\n",
    "qc.rz(theta[5],2)\n",
    "\n",
    "qc.rx(theta[6],3)\n",
    "qc.rz(theta[7],3)\n",
    "\n",
    "qc.crx(theta[8],3,2)\n",
    "qc.crx(theta[9],2,1)\n",
    "qc.crx(theta[10],1,0)\n",
    "\n",
    "qc4 = (qc,len(theta))\n",
    "print(qc4)"
   ]
  },
  {
   "cell_type": "markdown",
   "id": "cde7d0c8-ecd7-4232-9fbe-c81e9e16f6ee",
   "metadata": {
    "tags": []
   },
   "source": [
    "Circuit : 5"
   ]
  },
  {
   "cell_type": "code",
   "execution_count": 265,
   "id": "91d9a51a-d17a-4693-9f27-435ca0361f92",
   "metadata": {
    "tags": []
   },
   "outputs": [
    {
     "name": "stdout",
     "output_type": "stream",
     "text": [
      "(<qiskit.circuit.quantumcircuit.QuantumCircuit object at 0x7f25f2bd9ea0>, 25)\n"
     ]
    }
   ],
   "source": [
    "qc = QuantumCircuit(4)\n",
    "theta = ParameterVector('θ', 25)\n",
    "\n",
    "qc.rx(theta[0],0)\n",
    "qc.rz(theta[1],0)\n",
    "\n",
    "qc.rx(theta[2],1)\n",
    "qc.rz(theta[3],1)\n",
    "\n",
    "qc.rx(theta[4],2)\n",
    "qc.rz(theta[5],2)\n",
    "\n",
    "qc.rx(theta[6],3)\n",
    "qc.rz(theta[7],3)\n",
    "\n",
    "qc.barrier()\n",
    "\n",
    "qc.crz(theta[8],3,2)\n",
    "qc.crz(theta[9],2,1)\n",
    "qc.crz(theta[10],1,0)\n",
    "\n",
    "qc.barrier()\n",
    "\n",
    "qc.crz(theta[11],2,3)\n",
    "qc.crz(theta[12],2,1)\n",
    "qc.crz(theta[13],1,0)\n",
    "\n",
    "qc.barrier()\n",
    "\n",
    "qc.crz(theta[14],1,3)\n",
    "qc.crz(theta[15],1,2)\n",
    "qc.crz(theta[16],1,0)\n",
    "\n",
    "qc.barrier()\n",
    "\n",
    "qc.crz(theta[14],0,3)\n",
    "qc.crz(theta[15],0,2)\n",
    "qc.crz(theta[16],0,1)\n",
    "\n",
    "qc.barrier()\n",
    "\n",
    "qc.rx(theta[17],0)\n",
    "qc.rz(theta[18],0)\n",
    "\n",
    "qc.rx(theta[19],1)\n",
    "qc.rz(theta[20],1)\n",
    "\n",
    "qc.rx(theta[21],2)\n",
    "qc.rz(theta[22],2)\n",
    "\n",
    "qc.rx(theta[23],3)\n",
    "qc.rz(theta[24],3)\n",
    "\n",
    "qc5 = (qc,len(theta))\n",
    "print(qc5)"
   ]
  },
  {
   "cell_type": "markdown",
   "id": "38953f68-cf0f-49a3-9e98-2499e3ce7400",
   "metadata": {},
   "source": [
    "Circuit : 6"
   ]
  },
  {
   "cell_type": "code",
   "execution_count": 266,
   "id": "e635dd74-17f3-4ee0-a9f3-866f93ea6137",
   "metadata": {},
   "outputs": [
    {
     "name": "stdout",
     "output_type": "stream",
     "text": [
      "(<qiskit.circuit.quantumcircuit.QuantumCircuit object at 0x7f25f2b34280>, 25)\n"
     ]
    }
   ],
   "source": [
    "qc = QuantumCircuit(4)\n",
    "theta = ParameterVector('θ', 25)\n",
    "\n",
    "qc.rx(theta[0],0)\n",
    "qc.rz(theta[1],0)\n",
    "\n",
    "qc.rx(theta[2],1)\n",
    "qc.rz(theta[3],1)\n",
    "\n",
    "qc.rx(theta[4],2)\n",
    "qc.rz(theta[5],2)\n",
    "\n",
    "qc.rx(theta[6],3)\n",
    "qc.rz(theta[7],3)\n",
    "\n",
    "qc.barrier()\n",
    "\n",
    "qc.crx(theta[8],3,2)\n",
    "qc.crx(theta[9],2,1)\n",
    "qc.crx(theta[10],1,0)\n",
    "\n",
    "qc.barrier()\n",
    "\n",
    "qc.crx(theta[11],2,3)\n",
    "qc.crx(theta[12],2,1)\n",
    "qc.crx(theta[13],1,0)\n",
    "\n",
    "qc.barrier()\n",
    "\n",
    "qc.crx(theta[14],1,3)\n",
    "qc.crx(theta[15],1,2)\n",
    "qc.crx(theta[16],1,0)\n",
    "\n",
    "qc.barrier()\n",
    "\n",
    "qc.crx(theta[14],0,3)\n",
    "qc.crx(theta[15],0,2)\n",
    "qc.crx(theta[16],0,1)\n",
    "\n",
    "qc.barrier()\n",
    "\n",
    "qc.rx(theta[17],0)\n",
    "qc.rz(theta[18],0)\n",
    "\n",
    "qc.rx(theta[19],1)\n",
    "qc.rz(theta[20],1)\n",
    "\n",
    "qc.rx(theta[21],2)\n",
    "qc.rz(theta[22],2)\n",
    "\n",
    "qc.rx(theta[23],3)\n",
    "qc.rz(theta[24],3)\n",
    "\n",
    "qc6 = (qc,len(theta))\n",
    "print(qc6)"
   ]
  },
  {
   "cell_type": "markdown",
   "id": "26db0760-66e3-416b-95ab-d6375e76e2a9",
   "metadata": {},
   "source": [
    "Circuit : 7"
   ]
  },
  {
   "cell_type": "code",
   "execution_count": 267,
   "id": "b925f21e-baa4-494f-9a27-a941268f91dd",
   "metadata": {
    "tags": []
   },
   "outputs": [
    {
     "name": "stdout",
     "output_type": "stream",
     "text": [
      "(<qiskit.circuit.quantumcircuit.QuantumCircuit object at 0x7f25f2bda8f0>, 19)\n"
     ]
    }
   ],
   "source": [
    "qc = QuantumCircuit(4)\n",
    "theta = ParameterVector('θ', 19)\n",
    "\n",
    "qc.rx(theta[0],0)\n",
    "qc.rz(theta[1],0)\n",
    "\n",
    "qc.rx(theta[2],1)\n",
    "qc.rz(theta[3],1)\n",
    "\n",
    "qc.rx(theta[4],2)\n",
    "qc.rz(theta[5],2)\n",
    "\n",
    "qc.rx(theta[6],3)\n",
    "qc.rz(theta[7],3)\n",
    "\n",
    "qc.barrier()\n",
    "\n",
    "qc.crz(theta[8],1,0)\n",
    "qc.crz(theta[9],3,2)\n",
    "\n",
    "qc.barrier()\n",
    "\n",
    "qc.rx(theta[10],0)\n",
    "qc.rz(theta[11],0)\n",
    "\n",
    "qc.rx(theta[12],1)\n",
    "qc.rz(theta[13],1)\n",
    "\n",
    "qc.rx(theta[14],2)\n",
    "qc.rz(theta[15],2)\n",
    "\n",
    "qc.rx(theta[16],3)\n",
    "qc.rz(theta[17],3)\n",
    "\n",
    "qc.crz(theta[18],2,1)\n",
    "\n",
    "qc7 = (qc,len(theta))\n",
    "print(qc7)"
   ]
  },
  {
   "cell_type": "markdown",
   "id": "fcfcfb3b-eebe-4080-b72a-5e96cc814e49",
   "metadata": {},
   "source": [
    "Circuit : 8 "
   ]
  },
  {
   "cell_type": "code",
   "execution_count": 268,
   "id": "26575e7f-4212-4913-b060-ebcc26cb1aa6",
   "metadata": {
    "tags": []
   },
   "outputs": [
    {
     "name": "stdout",
     "output_type": "stream",
     "text": [
      "(<qiskit.circuit.quantumcircuit.QuantumCircuit object at 0x7f25f55b6aa0>, 19)\n"
     ]
    }
   ],
   "source": [
    "qc = QuantumCircuit(4)\n",
    "theta = ParameterVector('θ', 19)\n",
    "\n",
    "qc.rx(theta[0],0)\n",
    "qc.rz(theta[1],0)\n",
    "\n",
    "qc.rx(theta[2],1)\n",
    "qc.rz(theta[3],1)\n",
    "\n",
    "qc.rx(theta[4],2)\n",
    "qc.rz(theta[5],2)\n",
    "\n",
    "qc.rx(theta[6],3)\n",
    "qc.rz(theta[7],3)\n",
    "\n",
    "qc.barrier()\n",
    "\n",
    "qc.crx(theta[8],1,0)\n",
    "qc.crx(theta[9],3,2)\n",
    "\n",
    "qc.barrier()\n",
    "\n",
    "qc.rx(theta[10],0)\n",
    "qc.rz(theta[11],0)\n",
    "\n",
    "qc.rx(theta[12],1)\n",
    "qc.rz(theta[13],1)\n",
    "\n",
    "qc.rx(theta[14],2)\n",
    "qc.rz(theta[15],2)\n",
    "\n",
    "qc.rx(theta[16],3)\n",
    "qc.rz(theta[17],3)\n",
    "\n",
    "qc.crx(theta[18],2,1)\n",
    "\n",
    "qc8 = (qc,len(theta))\n",
    "print(qc8)"
   ]
  },
  {
   "cell_type": "markdown",
   "id": "76444668-b546-43dd-b3fa-3909f623d36e",
   "metadata": {},
   "source": [
    "Circuit : 9"
   ]
  },
  {
   "cell_type": "code",
   "execution_count": 269,
   "id": "90d49564-40ce-4d72-8695-79bd356b1168",
   "metadata": {
    "tags": []
   },
   "outputs": [
    {
     "name": "stdout",
     "output_type": "stream",
     "text": [
      "(<qiskit.circuit.quantumcircuit.QuantumCircuit object at 0x7f25f5585f30>, 4)\n"
     ]
    }
   ],
   "source": [
    "qc = QuantumCircuit(4)\n",
    "theta = ParameterVector('θ', 4)\n",
    "\n",
    "qc.h(0)\n",
    "qc.h(1)\n",
    "qc.h(2)\n",
    "qc.h(3)\n",
    "\n",
    "qc.barrier()\n",
    "\n",
    "qc.cz(2,3)\n",
    "qc.cz(1,2)\n",
    "qc.cz(0,1)\n",
    "\n",
    "qc.barrier()\n",
    "\n",
    "qc.rx(theta[0],0)\n",
    "qc.rx(theta[1],1)\n",
    "qc.rx(theta[2],2)\n",
    "qc.rx(theta[3],3)\n",
    "\n",
    "qc9 = (qc,len(theta))\n",
    "print(qc9)"
   ]
  },
  {
   "cell_type": "markdown",
   "id": "413aeafd-449f-4c36-b0ed-cf9281b87f98",
   "metadata": {},
   "source": [
    "Circuit : 10"
   ]
  },
  {
   "cell_type": "code",
   "execution_count": 270,
   "id": "71610ff8-c4b6-4dd9-8d73-7feec3a4b978",
   "metadata": {
    "tags": []
   },
   "outputs": [
    {
     "name": "stdout",
     "output_type": "stream",
     "text": [
      "(<qiskit.circuit.quantumcircuit.QuantumCircuit object at 0x7f25f5587b20>, 8)\n"
     ]
    }
   ],
   "source": [
    "qc = QuantumCircuit(4)\n",
    "theta = ParameterVector('θ', 8)\n",
    "\n",
    "qc.ry(theta[0],0)\n",
    "qc.ry(theta[1],1)\n",
    "qc.ry(theta[2],2)\n",
    "qc.ry(theta[3],3)\n",
    "\n",
    "qc.barrier()\n",
    "\n",
    "qc.cz(2,3)\n",
    "qc.cz(1,2)\n",
    "qc.cz(0,1)\n",
    "qc.cz(0,3)\n",
    "\n",
    "qc.barrier()\n",
    "\n",
    "qc.ry(theta[4],0)\n",
    "qc.ry(theta[5],1)\n",
    "qc.ry(theta[6],2)\n",
    "qc.ry(theta[7],3)\n",
    "\n",
    "qc10 = (qc,len(theta))\n",
    "print(qc10)"
   ]
  },
  {
   "cell_type": "markdown",
   "id": "7ca3e093-b0b6-4d66-ad6c-31e64a41047f",
   "metadata": {},
   "source": [
    "Circuit : 11"
   ]
  },
  {
   "cell_type": "code",
   "execution_count": 271,
   "id": "458534a3-9aed-42d9-b1e4-58edf2ba865a",
   "metadata": {
    "tags": []
   },
   "outputs": [
    {
     "name": "stdout",
     "output_type": "stream",
     "text": [
      "(<qiskit.circuit.quantumcircuit.QuantumCircuit object at 0x7f25f540e500>, 12)\n"
     ]
    }
   ],
   "source": [
    "qc = QuantumCircuit(4)\n",
    "theta = ParameterVector('θ', 12)\n",
    "\n",
    "qc.ry(theta[0],0)\n",
    "qc.rz(theta[1],0)\n",
    "\n",
    "qc.ry(theta[2],1)\n",
    "qc.rz(theta[3],1)\n",
    "\n",
    "qc.ry(theta[4],2)\n",
    "qc.rz(theta[5],2)\n",
    "\n",
    "qc.ry(theta[6],3)\n",
    "qc.rz(theta[7],3)\n",
    "\n",
    "qc.barrier()\n",
    "\n",
    "qc.cx(1,0)\n",
    "qc.cx(3,2)\n",
    "\n",
    "qc.barrier()\n",
    "\n",
    "qc.ry(theta[8],1)\n",
    "qc.rz(theta[9],1)\n",
    "\n",
    "qc.ry(theta[10],2)\n",
    "qc.rz(theta[11],2)\n",
    "\n",
    "qc.cx(2,1)\n",
    "\n",
    "qc11 = (qc,len(theta))\n",
    "print(qc11)"
   ]
  },
  {
   "cell_type": "markdown",
   "id": "06edb406-12e6-4037-a1e3-5ed72502ca97",
   "metadata": {},
   "source": [
    "Circuit : 12"
   ]
  },
  {
   "cell_type": "code",
   "execution_count": 272,
   "id": "ad8229f4-cc72-447e-8405-3847e91f7834",
   "metadata": {
    "tags": []
   },
   "outputs": [
    {
     "name": "stdout",
     "output_type": "stream",
     "text": [
      "(<qiskit.circuit.quantumcircuit.QuantumCircuit object at 0x7f25f55692a0>, 12)\n"
     ]
    }
   ],
   "source": [
    "qc = QuantumCircuit(4)\n",
    "theta = ParameterVector('θ', 12)\n",
    "\n",
    "qc.ry(theta[0],0)\n",
    "qc.rz(theta[1],0)\n",
    "\n",
    "qc.ry(theta[2],1)\n",
    "qc.rz(theta[3],1)\n",
    "\n",
    "qc.ry(theta[4],2)\n",
    "qc.rz(theta[5],2)\n",
    "\n",
    "qc.ry(theta[6],3)\n",
    "qc.rz(theta[7],3)\n",
    "\n",
    "qc.barrier()\n",
    "\n",
    "qc.cz(1,0)\n",
    "qc.cz(3,2)\n",
    "\n",
    "qc.barrier()\n",
    "\n",
    "qc.ry(theta[8],1)\n",
    "qc.rz(theta[9],1)\n",
    "\n",
    "qc.ry(theta[10],2)\n",
    "qc.rz(theta[11],2)\n",
    "\n",
    "qc.cz(2,1)\n",
    "\n",
    "qc12 = (qc,len(theta))\n",
    "print(qc12)"
   ]
  },
  {
   "cell_type": "markdown",
   "id": "38d2c931-07dc-4f25-a1b6-ee8a8b307555",
   "metadata": {},
   "source": [
    "Circuit : 13"
   ]
  },
  {
   "cell_type": "code",
   "execution_count": 273,
   "id": "238e3271-4293-412e-bc40-de285e65bb33",
   "metadata": {
    "tags": []
   },
   "outputs": [
    {
     "name": "stdout",
     "output_type": "stream",
     "text": [
      "(<qiskit.circuit.quantumcircuit.QuantumCircuit object at 0x7f25f5585330>, 16)\n"
     ]
    }
   ],
   "source": [
    "qc = QuantumCircuit(4)\n",
    "theta = ParameterVector('θ', 16)\n",
    "\n",
    "qc.ry(theta[0],0)\n",
    "qc.ry(theta[1],1)\n",
    "qc.ry(theta[2],2)\n",
    "qc.ry(theta[3],3)\n",
    "\n",
    "qc.barrier()\n",
    "\n",
    "qc.crz(theta[4],3,0)\n",
    "qc.crz(theta[5],2,3)\n",
    "qc.crz(theta[6],1,2)\n",
    "qc.crz(theta[7],0,1)\n",
    "\n",
    "qc.barrier()\n",
    "\n",
    "qc.ry(theta[8],0)\n",
    "qc.ry(theta[9],1)\n",
    "qc.ry(theta[10],2)\n",
    "qc.ry(theta[11],3)\n",
    "\n",
    "qc.barrier()\n",
    "\n",
    "qc.crz(theta[12],3,2)\n",
    "qc.crz(theta[13],0,3)\n",
    "qc.crz(theta[14],1,0)\n",
    "qc.crz(theta[15],2,1)\n",
    "\n",
    "qc13 = (qc,len(theta))\n",
    "print(qc13)"
   ]
  },
  {
   "cell_type": "markdown",
   "id": "f974f2a8-6015-45d3-b88f-4a1376c844ea",
   "metadata": {},
   "source": [
    "Circuit : 14"
   ]
  },
  {
   "cell_type": "code",
   "execution_count": 274,
   "id": "487247bc-ac7f-4a49-a72f-379690ffa3b4",
   "metadata": {
    "tags": []
   },
   "outputs": [
    {
     "name": "stdout",
     "output_type": "stream",
     "text": [
      "(<qiskit.circuit.quantumcircuit.QuantumCircuit object at 0x7f25f5464190>, 16)\n"
     ]
    }
   ],
   "source": [
    "qc = QuantumCircuit(4)\n",
    "theta = ParameterVector('θ', 16)\n",
    "\n",
    "qc.ry(theta[0],0)\n",
    "qc.ry(theta[1],1)\n",
    "qc.ry(theta[2],2)\n",
    "qc.ry(theta[3],3)\n",
    "\n",
    "qc.barrier()\n",
    "\n",
    "qc.crx(theta[4],3,0)\n",
    "qc.crx(theta[5],2,3)\n",
    "qc.crx(theta[6],1,2)\n",
    "qc.crx(theta[7],0,1)\n",
    "\n",
    "qc.barrier()\n",
    "\n",
    "qc.ry(theta[8],0)\n",
    "qc.ry(theta[9],1)\n",
    "qc.ry(theta[10],2)\n",
    "qc.ry(theta[11],3)\n",
    "\n",
    "qc.barrier()\n",
    "\n",
    "qc.crx(theta[12],3,2)\n",
    "qc.crx(theta[13],0,3)\n",
    "qc.crx(theta[14],1,0)\n",
    "qc.crx(theta[15],2,1)\n",
    "\n",
    "qc14 = (qc,len(theta))\n",
    "print(qc14)"
   ]
  },
  {
   "cell_type": "markdown",
   "id": "9889cbd7-6b26-4aa6-8db8-259eba33d4ef",
   "metadata": {},
   "source": [
    "Circuit : 15"
   ]
  },
  {
   "cell_type": "code",
   "execution_count": 275,
   "id": "02715b2e-9140-4f53-86ec-2357d8f6d278",
   "metadata": {
    "tags": []
   },
   "outputs": [
    {
     "name": "stdout",
     "output_type": "stream",
     "text": [
      "(<qiskit.circuit.quantumcircuit.QuantumCircuit object at 0x7f25f54647f0>, 8)\n"
     ]
    }
   ],
   "source": [
    "qc = QuantumCircuit(4)\n",
    "theta = ParameterVector('θ', 8)\n",
    "\n",
    "qc.ry(theta[0],0)\n",
    "qc.ry(theta[1],1)\n",
    "qc.ry(theta[2],2)\n",
    "qc.ry(theta[3],3)\n",
    "\n",
    "qc.barrier()\n",
    "\n",
    "qc.cx(3,0)\n",
    "qc.cx(2,3)\n",
    "qc.cx(1,2)\n",
    "qc.cx(0,1)\n",
    "\n",
    "qc.barrier()\n",
    "\n",
    "qc.ry(theta[4],0)\n",
    "qc.ry(theta[5],1)\n",
    "qc.ry(theta[6],2)\n",
    "qc.ry(theta[7],3)\n",
    "\n",
    "qc.barrier()\n",
    "\n",
    "qc.cx(3,2)\n",
    "qc.cx(0,3)\n",
    "qc.cx(1,0)\n",
    "qc.cx(2,1)\n",
    "\n",
    "qc15 = (qc,len(theta))\n",
    "print(qc15)"
   ]
  },
  {
   "cell_type": "markdown",
   "id": "885c4028-1e1f-4cf0-ade6-ccd2d2c9f459",
   "metadata": {},
   "source": [
    "Circuit : 16"
   ]
  },
  {
   "cell_type": "code",
   "execution_count": 276,
   "id": "1b04be70-7108-4d7a-820b-b6b7af867a48",
   "metadata": {
    "tags": []
   },
   "outputs": [
    {
     "name": "stdout",
     "output_type": "stream",
     "text": [
      "(<qiskit.circuit.quantumcircuit.QuantumCircuit object at 0x7f25f113a080>, 11)\n"
     ]
    }
   ],
   "source": [
    "qc = QuantumCircuit(4)\n",
    "theta = ParameterVector('θ', 11)\n",
    "\n",
    "qc.rx(theta[0],0)\n",
    "qc.rz(theta[1],0)\n",
    "\n",
    "qc.rx(theta[2],1)\n",
    "qc.rz(theta[3],1)\n",
    "\n",
    "qc.rx(theta[4],2)\n",
    "qc.rz(theta[5],2)\n",
    "\n",
    "qc.rx(theta[6],3)\n",
    "qc.rz(theta[7],3)\n",
    "\n",
    "qc.crz(theta[8],3,2)\n",
    "qc.crz(theta[10],1,0)\n",
    "qc.crz(theta[9],2,1)\n",
    "\n",
    "qc16 = (qc,len(theta))\n",
    "print(qc16)"
   ]
  },
  {
   "cell_type": "markdown",
   "id": "f86dfd54-5b5f-4847-a661-bf0fa59e0b6c",
   "metadata": {},
   "source": [
    "Circuit : 17"
   ]
  },
  {
   "cell_type": "code",
   "execution_count": 277,
   "id": "f2a388e8-aac8-41be-b2ef-05ed88bfbc30",
   "metadata": {
    "tags": []
   },
   "outputs": [
    {
     "name": "stdout",
     "output_type": "stream",
     "text": [
      "(<qiskit.circuit.quantumcircuit.QuantumCircuit object at 0x7f25f113b6a0>, 11)\n"
     ]
    }
   ],
   "source": [
    "qc = QuantumCircuit(4)\n",
    "theta = ParameterVector('θ', 11)\n",
    "\n",
    "qc.rx(theta[0],0)\n",
    "qc.rz(theta[1],0)\n",
    "\n",
    "qc.rx(theta[2],1)\n",
    "qc.rz(theta[3],1)\n",
    "\n",
    "qc.rx(theta[4],2)\n",
    "qc.rz(theta[5],2)\n",
    "\n",
    "qc.rx(theta[6],3)\n",
    "qc.rz(theta[7],3)\n",
    "\n",
    "qc.crx(theta[8],3,2)\n",
    "qc.crx(theta[10],1,0)\n",
    "qc.crx(theta[9],2,1)\n",
    "\n",
    "qc17 = (qc,len(theta))\n",
    "print(qc17)"
   ]
  },
  {
   "cell_type": "markdown",
   "id": "37c0d015-4270-4aa4-8f66-d093fa9b56d4",
   "metadata": {},
   "source": [
    "Circuit : 18"
   ]
  },
  {
   "cell_type": "code",
   "execution_count": 278,
   "id": "611a06f9-d82b-4fd2-aa97-2451371f4178",
   "metadata": {
    "tags": []
   },
   "outputs": [
    {
     "name": "stdout",
     "output_type": "stream",
     "text": [
      "(<qiskit.circuit.quantumcircuit.QuantumCircuit object at 0x7f25f1138e20>, 12)\n"
     ]
    }
   ],
   "source": [
    "qc = QuantumCircuit(4)\n",
    "theta = ParameterVector('θ', 12)\n",
    "\n",
    "qc.rx(theta[0],0)\n",
    "qc.rz(theta[1],0)\n",
    "\n",
    "qc.rx(theta[2],1)\n",
    "qc.rz(theta[3],1)\n",
    "\n",
    "qc.rx(theta[4],2)\n",
    "qc.rz(theta[5],2)\n",
    "\n",
    "qc.rx(theta[6],3)\n",
    "qc.rz(theta[7],3)\n",
    "\n",
    "qc.crz(theta[11],3,0)\n",
    "qc.crz(theta[8],2,3)\n",
    "qc.crz(theta[9],1,2)\n",
    "qc.crz(theta[10],0,1)\n",
    "\n",
    "qc18 = (qc,len(theta))\n",
    "print(qc18)"
   ]
  },
  {
   "cell_type": "markdown",
   "id": "a6c9d117-791e-454b-a799-50367e81e870",
   "metadata": {},
   "source": [
    "Circuit : 19"
   ]
  },
  {
   "cell_type": "code",
   "execution_count": 279,
   "id": "6e1acccb-5cf0-474a-be67-2b682b4a477c",
   "metadata": {
    "tags": []
   },
   "outputs": [
    {
     "name": "stdout",
     "output_type": "stream",
     "text": [
      "     ┌──────────┐┌──────────┐┌───────────┐                                     \n",
      "q_0: ┤ Rx(θ[0]) ├┤ Rz(θ[1]) ├┤ Rx(θ[11]) ├──────────────────────────────■──────\n",
      "     ├──────────┤├──────────┤└─────┬─────┘                        ┌─────┴─────┐\n",
      "q_1: ┤ Rx(θ[2]) ├┤ Rz(θ[3]) ├──────┼───────────────────────■──────┤ Rx(θ[10]) ├\n",
      "     ├──────────┤├──────────┤      │                  ┌────┴─────┐└───────────┘\n",
      "q_2: ┤ Rx(θ[4]) ├┤ Rz(θ[5]) ├──────┼───────────■──────┤ Rx(θ[9]) ├─────────────\n",
      "     ├──────────┤├──────────┤      │      ┌────┴─────┐└──────────┘             \n",
      "q_3: ┤ Rx(θ[6]) ├┤ Rz(θ[7]) ├──────■──────┤ Rx(θ[8]) ├─────────────────────────\n",
      "     └──────────┘└──────────┘             └──────────┘                         \n"
     ]
    }
   ],
   "source": [
    "qc = QuantumCircuit(4)\n",
    "theta = ParameterVector('θ', 12)\n",
    "\n",
    "qc.rx(theta[0],0)\n",
    "qc.rz(theta[1],0)\n",
    "\n",
    "qc.rx(theta[2],1)\n",
    "qc.rz(theta[3],1)\n",
    "\n",
    "qc.rx(theta[4],2)\n",
    "qc.rz(theta[5],2)\n",
    "\n",
    "qc.rx(theta[6],3)\n",
    "qc.rz(theta[7],3)\n",
    "\n",
    "qc.crx(theta[11],3,0)\n",
    "qc.crx(theta[8],2,3)\n",
    "qc.crx(theta[9],1,2)\n",
    "qc.crx(theta[10],0,1)\n",
    "\n",
    "\n",
    "qc19 = (qc,len(theta))\n",
    "print(qc19[0])\n",
    "\n",
    "del(qc)\n",
    "del(theta)\n"
   ]
  },
  {
   "cell_type": "code",
   "execution_count": 280,
   "id": "1ccfb6a8-54d9-425c-82be-bc0f5fb87eb7",
   "metadata": {
    "tags": []
   },
   "outputs": [],
   "source": [
    "def generate_uniform_angles(n):\n",
    "    return 2 * np.pi * np.random.rand(n)\n"
   ]
  },
  {
   "cell_type": "code",
   "execution_count": 281,
   "id": "7df3910c-cac1-4f86-b8ed-52b1f18bf8d8",
   "metadata": {
    "tags": []
   },
   "outputs": [],
   "source": [
    "def add_layer(q,l):\n",
    "    ans = QuantumCircuit(4)\n",
    "    for i in range(l):\n",
    "        ans.compose(q,inplace=True)\n",
    "    return ans"
   ]
  },
  {
   "cell_type": "code",
   "execution_count": 304,
   "id": "e9706814-3af3-4c24-8f28-02c5d37a67f1",
   "metadata": {
    "tags": []
   },
   "outputs": [],
   "source": [
    "from scipy.special import rel_entr\n",
    "bins_list=[];\n",
    "for i in range(76):\n",
    "    bins_list.append((i)/75)\n",
    "bins_x=[]    \n",
    "for i in range(75):\n",
    "    bins_x.append(bins_list[1]+bins_list[i])\n",
    "\n",
    "def P_harr(l,u,N):\n",
    "    return (1-l)**(N-1)-(1-u)**(N-1)\n",
    "\n",
    "P_harr_hist=[]\n",
    "for i in range(75):\n",
    "    P_harr_hist.append(P_harr(bins_list[i],bins_list[i+1],16))\n",
    "\n",
    "\n",
    "def final_job(q,j,l):\n",
    "    fid = []\n",
    "    for i in range(2000):\n",
    "        x1 = generate_uniform_angles(q[1])\n",
    "        x2 = generate_uniform_angles(q[1])\n",
    "        circ = add_layer(q[0],l)\n",
    "        q1 = circ.bind_parameters(x1)\n",
    "        q2 = circ.bind_parameters(x2)\n",
    "        s1 = qi.Statevector.from_instruction(q1)\n",
    "        s2 = qi.Statevector.from_instruction(q2)\n",
    "        f = state_fidelity(s1, s2, validate=True)\n",
    "        fid.append(f)\n",
    "    weights = np.ones_like(fid)/float(len(fid))\n",
    "    P_1_hist=np.histogram(fid, bins=bins_list, weights=weights, range=[0, 1])[0]\n",
    "    kl_pq = rel_entr(P_1_hist, P_harr_hist)\n",
    "    divergence = sum(kl_pq)\n",
    "    return fid,weights,divergence\n",
    "\n",
    "\n",
    "# plt.figure(figsize=(2,2))\n",
    "# plt.hist(fid, bins=bins_list,weights = weights, range=[0, 1],label = 'Circuit : ' + str(j) + 'with L = ' + str(l))\n",
    "# plt.plot(bins_x, P_harr_hist, label='Harr')\n",
    "# plt.legend(loc='upper right')"
   ]
  },
  {
   "cell_type": "code",
   "execution_count": 305,
   "id": "27cef63c-0b86-486f-97c2-5839726b5d6f",
   "metadata": {
    "tags": []
   },
   "outputs": [
    {
     "name": "stdout",
     "output_type": "stream",
     "text": [
      "['qc1', 'qc2', 'qc3', 'qc4', 'qc5', 'qc6', 'qc7', 'qc8', 'qc9', 'qc10', 'qc11', 'qc12', 'qc13', 'qc14', 'qc15', 'qc16', 'qc17', 'qc18', 'qc19']\n"
     ]
    }
   ],
   "source": [
    "circuits = [f'qc{i}' for i in range(1,20)]\n",
    "print(circuits)"
   ]
  },
  {
   "cell_type": "code",
   "execution_count": 284,
   "id": "7a0da48e-d1f6-4796-b90c-1d9318b327bb",
   "metadata": {
    "tags": []
   },
   "outputs": [
    {
     "name": "stdout",
     "output_type": "stream",
     "text": [
      "KL(P || Q): 0.651 nats\n"
     ]
    },
    {
     "data": {
      "image/png": "[encoded data removed]",
      "text/plain": [
       "<Figure size 200x200 with 1 Axes>"
      ]
     },
     "metadata": {},
     "output_type": "display_data"
    }
   ],
   "source": [
    "#Example showing expressibilty of Circuit:9 with 1 Layer\n",
    "f,w,d = final_job(qc9,9,1)\n",
    "plt.figure(figsize=(2,2))\n",
    "plt.hist(f, bins=bins_list,weights = w, range=[0, 1],label = 'Circuit:' + str(9) + ' with L = ' + str(1))\n",
    "plt.plot(bins_x, P_harr_hist, label='Harr')\n",
    "plt.legend(loc='upper right',fontsize=7)\n",
    "print('KL(P || Q): %.3f nats' % d)"
   ]
  },
  {
   "cell_type": "code",
   "execution_count": 285,
   "id": "eb473470-1fdd-4b63-befa-d0caf206dda4",
   "metadata": {
    "tags": []
   },
   "outputs": [
    {
     "name": "stdout",
     "output_type": "stream",
     "text": [
      "KL(P || Q): 0.056 nats\n"
     ]
    },
    {
     "data": {
      "image/png": "[encoded data removed]",
      "text/plain": [
       "<Figure size 200x200 with 1 Axes>"
      ]
     },
     "metadata": {},
     "output_type": "display_data"
    }
   ],
   "source": [
    "#Example showing expressibilty of Circuit:9 with 3 Layers\n",
    "f,w,d = final_job(qc9,9,3)\n",
    "plt.figure(figsize=(2,2))\n",
    "plt.hist(f, bins=bins_list,weights = w, range=[0, 1],label = 'Circuit:' + str(9) + ' with L = ' + str(3))\n",
    "plt.plot(bins_x, P_harr_hist, label='Harr')\n",
    "plt.legend(loc='upper right',fontsize=7)\n",
    "print('KL(P || Q): %.3f nats' % d)"
   ]
  },
  {
   "cell_type": "code",
   "execution_count": 286,
   "id": "b05bb685-2e37-4ac9-81d6-5c57e8c01173",
   "metadata": {
    "scrolled": true,
    "tags": []
   },
   "outputs": [],
   "source": [
    "circ_id = 0\n",
    "div_list = [[] for i in range(19)]\n",
    "fid_list =[[] for i in range(19)]\n",
    "weight_list=[[] for i in range(19)]\n",
    "for name in circuits:\n",
    "    circ_id+= 1\n",
    "    curr_circ,circ_par_len= eval(name)\n",
    "    for L in range(1,6):\n",
    "        fid,weights,div = final_job((curr_circ,circ_par_len),circ_id,L)\n",
    "        div_list[circ_id-1].append(div)\n",
    "        fid_list[circ_id-1].append(fid)\n",
    "    weight_list[circ_id-1].append(weights)"
   ]
  },
  {
   "cell_type": "code",
   "execution_count": 287,
   "id": "690d069c-41d1-468c-92ee-6180a30497a9",
   "metadata": {
    "tags": []
   },
   "outputs": [
    {
     "data": {
      "text/plain": [
       "<matplotlib.legend.Legend at 0x7f25f3bb28f0>"
      ]
     },
     "execution_count": 287,
     "metadata": {},
     "output_type": "execute_result"
    },
    {
     "data": {
      "image/png": "[encoded data removed]",
      "text/plain": [
       "<Figure size 640x480 with 1 Axes>"
      ]
     },
     "metadata": {},
     "output_type": "display_data"
    }
   ],
   "source": [
    "plt.hist(fid_list[0][0], bins=bins_list,weights = weight_list[0][0], range=[0, 1],label = 'Circuit:' + str(1) + ' with L = ' + str(1))\n",
    "plt.plot(bins_x, P_harr_hist, label='Harr')\n",
    "plt.legend(loc='upper right')"
   ]
  },
  {
   "cell_type": "code",
   "execution_count": 288,
   "id": "080e05e0-f5c9-4906-b604-ade860771034",
   "metadata": {
    "tags": []
   },
   "outputs": [
    {
     "data": {
      "text/plain": [
       "<matplotlib.legend.Legend at 0x7f25f1feae30>"
      ]
     },
     "execution_count": 288,
     "metadata": {},
     "output_type": "execute_result"
    },
    {
     "data": {
      "image/png": "[encoded data removed]",
      "text/plain": [
       "<Figure size 640x480 with 1 Axes>"
      ]
     },
     "metadata": {},
     "output_type": "display_data"
    }
   ],
   "source": [
    "plt.hist(fid_list[0][1], bins=bins_list,weights = weight_list[0][0], range=[0, 1],label = 'Circuit:' + str(1) + ' with L = ' + str(2))\n",
    "plt.plot(bins_x, P_harr_hist, label='Harr')\n",
    "plt.legend(loc='upper right')"
   ]
  },
  {
   "cell_type": "code",
   "execution_count": 294,
   "id": "6123204d-256a-4a7f-b3b7-ec5120717535",
   "metadata": {
    "tags": []
   },
   "outputs": [
    {
     "data": {
      "image/png": "[encoded data removed]",
      "text/plain": [
       "<Figure size 640x480 with 1 Axes>"
      ]
     },
     "metadata": {},
     "output_type": "display_data"
    }
   ],
   "source": [
    "import pandas as pd\n",
    "\n",
    "\n",
    "arr = div_list\n",
    "x = [i+1 for i in range(19)]\n",
    "y = [i[0] for i in arr]\n",
    "plt.plot(x, y, 'o', color='red', label='L=1');\n",
    "x = [i+1 for i in range(19)]\n",
    "y = [i[1] for i in arr]\n",
    "plt.plot(x, y, 'o', color='blue', label='L=2');\n",
    "x = [i+1 for i in range(19)]\n",
    "y = [i[2] for i in arr]\n",
    "plt.plot(x, y, 'o', color='black', label='L=3');\n",
    "x = [i+1 for i in range(19)]\n",
    "y = [i[3] for i in arr]\n",
    "plt.plot(x, y, 'o', color='green', label='L=4');\n",
    "x = [i+1 for i in range(19)]\n",
    "y = [i[4] for i in arr]\n",
    "plt.plot(x, y, 'o', color='purple', label='L=5');\n",
    "plt.legend(loc='upper right',fontsize=5)\n",
    "\n",
    "plt.yscale('log',base=10) \n",
    "plt.xlabel('Circuit ID')\n",
    "plt.ylabel('Expressibility')\n",
    "\n",
    "# Create names on the x axis\n",
    "plt.xticks([i+1 for i in range(19)])\n",
    "plt.show()"
   ]
  },
  {
   "cell_type": "code",
   "execution_count": 290,
   "id": "fe7a4ac8-3e8e-49cd-9705-210405c9da53",
   "metadata": {
    "tags": []
   },
   "outputs": [
    {
     "data": {
      "image/png": "[encoded data removed]",
      "text/plain": [
       "<Figure size 640x480 with 1 Axes>"
      ]
     },
     "metadata": {},
     "output_type": "display_data"
    }
   ],
   "source": [
    "x = [str(i+1) for i in range(19)]\n",
    "x_ticks_labels = ['9','1','2','16','3','18','10','12','15','17','4','11','7','8','19','5','13','14','6']\n",
    "xarr = np.array(x)\n",
    "ind = np.where(xarr.reshape(xarr.size, 1) == np.array(x_ticks_labels))[1]\n",
    "\n",
    "\n",
    "\n",
    "\n",
    "fig, ax = plt.subplots(1,1) \n",
    "y = [i[0] for i in arr]\n",
    "ax.scatter(ind,y, marker=\"o\", color='red', label='L=1')\n",
    "y = [i[1] for i in arr]\n",
    "ax.scatter(ind,y, marker=\"o\", color='blue', label='L=2')\n",
    "y = [i[2] for i in arr]\n",
    "ax.scatter(ind,y, marker=\"o\", color='black', label='L=3')\n",
    "y = [i[3] for i in arr]\n",
    "ax.scatter(ind,y, marker=\"o\", color='green', label='L=4')\n",
    "y = [i[4] for i in arr]\n",
    "ax.scatter(ind,y, marker=\"o\", color='purple', label='L=5')\n",
    "\n",
    "ax.set_yscale('log',base=10) \n",
    "ax.set_xlabel('Circuit ID')\n",
    "ax.set_ylabel('Expressibility')\n",
    "ax.legend(loc='upper right')\n",
    "\n",
    "ax.set_xticks(range(len(x_ticks_labels)))\n",
    "ax.set_xticklabels(x_ticks_labels)\n",
    "\n",
    "plt.show()"
   ]
  },
  {
   "cell_type": "code",
   "execution_count": 307,
   "id": "cecee2df-b351-4cdb-bc1f-93435cab4293",
   "metadata": {
    "tags": []
   },
   "outputs": [
    {
     "name": "stdout",
     "output_type": "stream",
     "text": [
      "[0.28266774925054505, 0.07780452100995826, 0.022932227758476684, 0.05481511419873333, 0.014356780811117856]\n"
     ]
    }
   ],
   "source": [
    "print(div_list[1])"
   ]
  },
  {
   "cell_type": "code",
   "execution_count": null,
   "id": "d579a1fe-5ee6-472c-a63b-09db30098c24",
   "metadata": {},
   "outputs": [],
   "source": []
  }
 ],
 "metadata": {
  "kernelspec": {
   "display_name": "Python 3 (ipykernel)",
   "language": "python",
   "name": "python3"
  },
  "language_info": {
   "codemirror_mode": {
    "name": "ipython",
    "version": 3
   },
   "file_extension": ".py",
   "mimetype": "text/x-python",
   "name": "python",
   "nbconvert_exporter": "python",
   "pygments_lexer": "ipython3",
   "version": "3.10.8"
  },
  "widgets": {
   "application/vnd.jupyter.widget-state+json": {
    "state": {
     "01baa2a2db35402aa684e1ce3c4bf03a": {
      "model_module": "@jupyter-widgets/controls",
      "model_module_version": "2.0.0",
      "model_name": "ButtonModel",
      "state": {
       "button_style": "primary",
       "description": "Clear",
       "layout": "IPY_MODEL_05483a551ae4423aae1d7347d5d2bf78",
       "style": "IPY_MODEL_98e25f35ebf14422ac12c91c7a2663b1",
       "tooltip": null
      }
     },
     "05483a551ae4423aae1d7347d5d2bf78": {
      "model_module": "@jupyter-widgets/base",
      "model_module_version": "2.0.0",
      "model_name": "LayoutModel",
      "state": {
       "grid_area": "right",
       "padding": "0px 0px 0px 0px",
       "width": "70px"
      }
     },
     "0a3322990ff847609f8d02edf661bb8c": {
      "model_module": "@jupyter-widgets/controls",
      "model_module_version": "2.0.0",
      "model_name": "HTMLStyleModel",
      "state": {
       "description_width": "",
       "font_size": null,
       "text_color": null
      }
     },
     "0b4c8829fe124bd4a2088190e2b3c014": {
      "model_module": "@jupyter-widgets/controls",
      "model_module_version": "2.0.0",
      "model_name": "HTMLModel",
      "state": {
       "layout": "IPY_MODEL_6a8361ef2e2948a785e9950254da50c2",
       "style": "IPY_MODEL_8357dc56be3449089eaef655c464893d",
       "value": "<h5>Backend</h5>"
      }
     },
     "138485823c264fff95442010be7a445a": {
      "model_module": "@jupyter-widgets/controls",
      "model_module_version": "2.0.0",
      "model_name": "HTMLStyleModel",
      "state": {
       "description_width": "",
       "font_size": null,
       "text_color": null
      }
     },
     "311d166028fb4d62b5b80e41bce5d9d0": {
      "model_module": "@jupyter-widgets/base",
      "model_module_version": "2.0.0",
      "model_name": "LayoutModel",
      "state": {
       "margin": "0px 0px 10px 0px"
      }
     },
     "37ca8a73acae42519260989091e1847c": {
      "model_module": "@jupyter-widgets/controls",
      "model_module_version": "2.0.0",
      "model_name": "HTMLModel",
      "state": {
       "layout": "IPY_MODEL_bdf1ba9104364c8bb6612165f5e6777c",
       "style": "IPY_MODEL_7fb5f95be2894e40aac5964bb1107509",
       "value": "<h5>Job ID</h5>"
      }
     },
     "47e561447fb544e6b3422df4fd6d481f": {
      "model_module": "@jupyter-widgets/controls",
      "model_module_version": "2.0.0",
      "model_name": "HTMLStyleModel",
      "state": {
       "description_width": "",
       "font_size": null,
       "text_color": null
      }
     },
     "5391f4b79d7040d2a77dd8fec7a36d9f": {
      "model_module": "@jupyter-widgets/controls",
      "model_module_version": "2.0.0",
      "model_name": "HTMLModel",
      "state": {
       "layout": "IPY_MODEL_311d166028fb4d62b5b80e41bce5d9d0",
       "style": "IPY_MODEL_0a3322990ff847609f8d02edf661bb8c",
       "value": "<p style='font-family: IBM Plex Sans, Arial, Helvetica, sans-serif; font-size: 20px; font-weight: medium;'>Circuit Properties</p>"
      }
     },
     "6a8361ef2e2948a785e9950254da50c2": {
      "model_module": "@jupyter-widgets/base",
      "model_module_version": "2.0.0",
      "model_name": "LayoutModel",
      "state": {
       "width": "145px"
      }
     },
     "7fb5f95be2894e40aac5964bb1107509": {
      "model_module": "@jupyter-widgets/controls",
      "model_module_version": "2.0.0",
      "model_name": "HTMLStyleModel",
      "state": {
       "description_width": "",
       "font_size": null,
       "text_color": null
      }
     },
     "814f258eec914c439a6b62bdbe9460d4": {
      "model_module": "@jupyter-widgets/controls",
      "model_module_version": "2.0.0",
      "model_name": "HTMLModel",
      "state": {
       "layout": "IPY_MODEL_9488fd2f54d341f9a66c73b279efd5ff",
       "style": "IPY_MODEL_9d12042137c74957bc7237ae471d3f1e",
       "value": "<h5>Status</h5>"
      }
     },
     "82ceef55738b45d59a127f4be499f4a8": {
      "model_module": "@jupyter-widgets/base",
      "model_module_version": "2.0.0",
      "model_name": "LayoutModel",
      "state": {
       "width": "70px"
      }
     },
     "8357dc56be3449089eaef655c464893d": {
      "model_module": "@jupyter-widgets/controls",
      "model_module_version": "2.0.0",
      "model_name": "HTMLStyleModel",
      "state": {
       "description_width": "",
       "font_size": null,
       "text_color": null
      }
     },
     "9488fd2f54d341f9a66c73b279efd5ff": {
      "model_module": "@jupyter-widgets/base",
      "model_module_version": "2.0.0",
      "model_name": "LayoutModel",
      "state": {
       "width": "95px"
      }
     },
     "98e25f35ebf14422ac12c91c7a2663b1": {
      "model_module": "@jupyter-widgets/controls",
      "model_module_version": "2.0.0",
      "model_name": "ButtonStyleModel",
      "state": {
       "font_family": null,
       "font_size": null,
       "font_style": null,
       "font_variant": null,
       "font_weight": null,
       "text_color": null,
       "text_decoration": null
      }
     },
     "9aa4bf5f256e493580f5d81dffa7288b": {
      "model_module": "@jupyter-widgets/controls",
      "model_module_version": "2.0.0",
      "model_name": "GridBoxModel",
      "state": {
       "children": [
        "IPY_MODEL_01baa2a2db35402aa684e1ce3c4bf03a"
       ],
       "layout": "IPY_MODEL_b040ce89a0c14dedadba912815f424c5"
      }
     },
     "9d12042137c74957bc7237ae471d3f1e": {
      "model_module": "@jupyter-widgets/controls",
      "model_module_version": "2.0.0",
      "model_name": "HTMLStyleModel",
      "state": {
       "description_width": "",
       "font_size": null,
       "text_color": null
      }
     },
     "aa148081147940339db14fa2539c18a8": {
      "model_module": "@jupyter-widgets/controls",
      "model_module_version": "2.0.0",
      "model_name": "HTMLModel",
      "state": {
       "layout": "IPY_MODEL_c28aaa113b7c484bac9843617cb307c4",
       "style": "IPY_MODEL_47e561447fb544e6b3422df4fd6d481f",
       "value": "<h5>Message</h5>"
      }
     },
     "ab540c3b0e7e493c915c97148a2d10ab": {
      "model_module": "@jupyter-widgets/controls",
      "model_module_version": "2.0.0",
      "model_name": "HTMLModel",
      "state": {
       "layout": "IPY_MODEL_82ceef55738b45d59a127f4be499f4a8",
       "style": "IPY_MODEL_138485823c264fff95442010be7a445a",
       "value": "<h5>Queue</h5>"
      }
     },
     "b040ce89a0c14dedadba912815f424c5": {
      "model_module": "@jupyter-widgets/base",
      "model_module_version": "2.0.0",
      "model_name": "LayoutModel",
      "state": {
       "grid_template_areas": "\n                                       \". . . . right \"\n                                        ",
       "grid_template_columns": "20% 20% 20% 20% 20%",
       "width": "100%"
      }
     },
     "bdf1ba9104364c8bb6612165f5e6777c": {
      "model_module": "@jupyter-widgets/base",
      "model_module_version": "2.0.0",
      "model_name": "LayoutModel",
      "state": {
       "width": "190px"
      }
     },
     "c28aaa113b7c484bac9843617cb307c4": {
      "model_module": "@jupyter-widgets/base",
      "model_module_version": "2.0.0",
      "model_name": "LayoutModel",
      "state": {}
     },
     "ead4b470536b4930afa0b7aa63e2635b": {
      "model_module": "@jupyter-widgets/base",
      "model_module_version": "2.0.0",
      "model_name": "LayoutModel",
      "state": {
       "margin": "0px 0px 0px 37px",
       "width": "600px"
      }
     },
     "f1397166b74b48db93c2986b4d978062": {
      "model_module": "@jupyter-widgets/controls",
      "model_module_version": "2.0.0",
      "model_name": "HBoxModel",
      "state": {
       "children": [
        "IPY_MODEL_37ca8a73acae42519260989091e1847c",
        "IPY_MODEL_0b4c8829fe124bd4a2088190e2b3c014",
        "IPY_MODEL_814f258eec914c439a6b62bdbe9460d4",
        "IPY_MODEL_ab540c3b0e7e493c915c97148a2d10ab",
        "IPY_MODEL_aa148081147940339db14fa2539c18a8"
       ],
       "layout": "IPY_MODEL_ead4b470536b4930afa0b7aa63e2635b"
      }
     }
    },
    "version_major": 2,
    "version_minor": 0
   }
  }
 },
 "nbformat": 4,
 "nbformat_minor": 5
}
