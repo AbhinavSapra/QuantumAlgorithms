{
 "cells": [
  {
   "cell_type": "markdown",
   "metadata": {
    "tags": []
   },
   "source": [
    "# Iterative phase estimation\n",
    "\n",
    "In this lab we will look at how to perform Quantum Phase estimation with minimum number of auxillary qubits and still retrieve the whole phase.\n",
    "\n",
    "__Disclaimer__ : Recall from Lab 1 that we saw how to create and run jupyter (.ipynb) notebooks using IBM Quantum Lab. For this assignment, please continue using the same to avoid any installation issues.\n",
    "\n",
    "Fill in your details in the below cell. \\\n",
    "Your Name :  \\\n",
    "ID :\n",
    "\n",
    "Rename your notebook with your ID as a suffix and submit in the moodle page."
   ]
  },
  {
   "cell_type": "code",
   "execution_count": null,
   "metadata": {
    "tags": []
   },
   "outputs": [],
   "source": [
    "# Importing standard Qiskit libraries\n",
    "from qiskit import QuantumCircuit, transpile\n",
    "from qiskit.tools.jupyter import *\n",
    "from qiskit.visualization import *\n",
    "from ibm_quantum_widgets import *\n",
    "\n",
    "# qiskit-ibmq-provider has been deprecated.\n",
    "# Please see the Migration Guides in https://ibm.biz/provider_migration_guide for more detail.\n",
    "from qiskit_ibm_runtime import QiskitRuntimeService, Sampler, Estimator, Session, Options\n",
    "\n",
    "# Loading your IBM Quantum account(s)\n",
    "service = QiskitRuntimeService(channel=\"ibm_quantum\")\n",
    "\n",
    "# Invoke a primitive. For more details see https://qiskit.org/documentation/partners/qiskit_ibm_runtime/tutorials.html\n",
    "# result = Sampler(\"ibmq_qasm_simulator\").run(circuits).result()\n",
    "\n",
    "from qiskit_aer import AerSimulator\n",
    "from qiskit.visualization import plot_histogram\n",
    "from qiskit import QuantumRegister, ClassicalRegister"
   ]
  },
  {
   "cell_type": "markdown",
   "metadata": {},
   "source": [
    "# Iterative phase estimation\n",
    "\n",
    "The quantum phase estimation (QPE) algorithm is one of the most important and famous quantum algorithms. It is a key subroutine of Shor's factoring algorithm, as well as algorithms for quantum simulation. The textbook version of the algorithm uses a number of auxiliary qubits which scales with the desired precision, leading to circuits that are challenging to execute on today's noisy devices with limited qubit number and connectivity.\n",
    "\n",
    "Iterative phase estimation (IPE) is a variant of QPE which requires only one auxiliary qubit. In IPE, the auxiliary qubit is repeatedly measured, with the measurement results used to guide future quantum operations."
   ]
  },
  {
   "cell_type": "markdown",
   "metadata": {},
   "source": [
    "## Introduction\n",
    "\n",
    "Like usual phase estimation algorithm, IPE is designed to solve the following problem:\n",
    "\n",
    "**Problem statement:** Given a unitary matrix $U$ and an eigenstate $|\\Psi\\rangle$ of $U$ with an unknown eigenvalue $e^{i 2\\pi \\varphi}$, estimate the value of $\\varphi$.\n",
    "\n",
    "Let's first assume for simplicity that $\\varphi$ can have an exact binary expansion, that is, it can be written as\n",
    "$$\n",
    "\\varphi = \\varphi_1/2 + \\varphi_2/4 + \\cdots + \\varphi_m/2^m = 0.\\varphi_1 \\varphi_2 \\cdots \\varphi_m\n",
    "$$\n",
    "where we are using \"decimal\" point notation in base 2.\n",
    "Unlike the usual phase estimation algorithm where we would need $m$ auxillary qubits, IPE requires only single auxiliary qubit, lets call this qubit, $q$ for notational convenience."
   ]
  },
  {
   "cell_type": "markdown",
   "metadata": {},
   "source": [
    "Suppose that we initialize $q$ in the state $|+\\rangle = \\frac{|0\\rangle + |1\\rangle}{\\sqrt{2}}$. What happens if we apply the *controlled*-$U^{2^t}$ gate, with $q$ being the control, given that the target is an eigenstate of $U$ ?\n",
    "\n",
    "Let $|\\Psi \\rangle$ be the eigenstate of $U$ with eigenvalue $e^{i 2\\pi \\varphi}$, we have\n",
    "$$\n",
    "\\begin{align}\n",
    "|+\\rangle |\\Psi \\rangle &= \\left(\\frac{|0\\rangle + |1\\rangle}{\\sqrt{2}}\\right) |\\Psi \\rangle \\\\\n",
    "&= \\frac{|0\\rangle |\\Psi \\rangle + |1\\rangle |\\Psi \\rangle}{\\sqrt{2}} \\\\\n",
    "&\\xrightarrow{\\text{controlled-}U^{2^t}} \\frac{|0\\rangle |\\Psi \\rangle + e^{i 2 \\pi 2^{t} \\varphi} |1\\rangle |\\Psi \\rangle}{\\sqrt{2}} \\\\\n",
    "&= \\left(\\frac{|0\\rangle  + e^{i 2 \\pi 2^{t} \\varphi} |1\\rangle}{\\sqrt{2}}\\right) |\\Psi \\rangle.\n",
    "\\end{align}\n",
    "$$\n",
    "The qubits on the eigenstate remains unchanged, while a phase of $e^{i 2 \\pi 2^{t} \\varphi}$ has been \"kicked back\" (similar to phase kickback in the Grover's algorithm) into the state of the auxiliary qubit $q$."
   ]
  },
  {
   "cell_type": "markdown",
   "metadata": {},
   "source": [
    "Let's look at what happens for different values of $t$\n",
    "- for $t=0$, the phase would be $e^{i 2 \\pi 2^{0} \\varphi} = e^{i 2 \\pi \\varphi} = e^{i 2 \\pi 0.\\varphi_1 \\varphi_2 ... \\varphi_m}$\n",
    "- for $t=1$, the phase would be $e^{i 2 \\pi 2^{1} \\varphi}= e^{i 2 \\pi \\varphi_1} e^{i 2 \\pi 0.\\varphi_2 \\varphi_3 ... \\varphi_m} = e^{i 2 \\pi 0.\\varphi_2 \\varphi_3 ... \\varphi_m}$\n",
    "- for $t=2$, the phase would be $e^{i 2 \\pi 2^{2} \\varphi} = e^{i 2 \\pi 0.\\varphi_3 \\varphi_4 ... \\varphi_m}$\n",
    "- for $t=m-1$, the phase would be $e^{i 2 \\pi 2^{m-1} \\varphi} = e^{i 2 \\pi 0.\\varphi_m}$.\n",
    "\n",
    "In the last case where $t = m - 1$, the phase is $e^{i 2 \\pi 0.\\varphi_m}$, which is equal to $1$ if $\\varphi_m = 0$ and $-1$ if $\\varphi_m = 1$.\n",
    "In the first case, the auxiliary qubit $q$ would be in the state $|+\\rangle = \\frac{|0\\rangle + |1\\rangle}{\\sqrt{2}}$, and in the second case it would be\n",
    "in the state $|-\\rangle = \\frac{|0\\rangle - |1\\rangle}{\\sqrt{2}}$. \n",
    "\n",
    "Therefore, measuring the qubit in the Pauli $X$ basis would distinguish these cases with a 100\\% success rate.\n",
    "This is done by performing a Hadamard gate on the qubit before measuring it. \n",
    "\n",
    "In the first case we would measure 0 and in the second case we would measure 1; in other words, the measured bit would be equal to $\\varphi_m$."
   ]
  },
  {
   "cell_type": "markdown",
   "metadata": {},
   "source": [
    "### The algorithm\n",
    "\n",
    "1. Initialize the circuit with the eigenstate $|\\Psi\\rangle$.\n",
    "2. Initialize the auxillary qubit in state $|+\\rangle$.\n",
    "3. Perform a *controlled*-$U^{2^{m-1}}$ operation, and measuring $q$ in the Pauli $X$ basis. This gives us the value of the least significant bit $\\varphi_{m}$.\n",
    "4. Reset the auxillary qubit using reset gate available in qiskit.\n",
    "5. For the next step apply a *controlled*-$U^{2^{m-2}}$ operation. The relative phase in $q$ after these operations is now $e^{i 2 \\pi 0.\\varphi_{m-1}\\varphi_{m}}= e^{i 2 \\pi 0.\\varphi_{m-1}} e^{i 2 \\pi \\varphi_m/4}$. \\\n",
    "To extract the phase bit $\\varphi_{m-1}$, first perform a phase correction by rotating around the $Z$-axis by an angle $-2 \\pi \\varphi_m/4=-\\pi \\varphi_m/2$, which results in the state of  $q$ to be $|0\\rangle + e^{i 2 \\pi 0.\\varphi_{m-1}} | 1 \\rangle$. Perform a measurement on $q$ in the Pauli $X$ basis to obtain the phase bit $\\varphi_{m-1}$. \\\n",
    "This is where the main advantage lies, rotating the auxillary qubit at step $k$ based on the known information till step $k-1$.\n",
    "\n",
    "6. Repeat the same procedure for $m$ steps to retrieve the entire phase $\\varphi_1,\\varphi_2,...,\\varphi_m$"
   ]
  },
  {
   "cell_type": "markdown",
   "metadata": {},
   "source": [
    "For cases like step 5 in the IPE algorithm, we need the power to apply quantum gates conditioned on the output measured onto classical registers. This ability is r3eferred to as [dynamic circuits](https://research.ibm.com/blog/quantum-dynamic-circuits) by IBM. \n",
    "\n",
    "Below is an example of how to perform these operations in qiskit where we reset a qubit by measuring. If the measured value is 0, do nothing ; if the measured value is 1 apply a NOT (X) gate."
   ]
  },
  {
   "cell_type": "code",
   "execution_count": null,
   "metadata": {
    "tags": []
   },
   "outputs": [],
   "source": [
    "# An example of how to apply a quantum gate controlled on classical output\n",
    "qreg = QuantumRegister(1)\n",
    "creg = ClassicalRegister(2)\n",
    "reset_circ = QuantumCircuit(qreg,creg)\n",
    "reset_circ.h(0)\n",
    "reset_circ.measure(qreg[0],creg[0])\n",
    "reset_circ.x(0).c_if(creg[0],1) # the c_if operation checks if the value of creg[0] is 1. If yes, then applies x gate on the qubit 0\n",
    "reset_circ.measure(qreg[0],creg[1])\n",
    "reset_circ.draw()"
   ]
  },
  {
   "cell_type": "code",
   "execution_count": null,
   "metadata": {
    "tags": []
   },
   "outputs": [],
   "source": [
    "# Running the above circuit should give me 0 always in the first bit (creg[1]) irrespective of what the input qubit is.\n",
    "# Feel free to initialize the qubit to any arbitrary state and check.\n",
    "sim = AerSimulator()\n",
    "job = sim.run(reset_circ, shots=1000)\n",
    "result = job.result()\n",
    "counts = result.get_counts()\n",
    "plot_histogram(counts)"
   ]
  },
  {
   "cell_type": "markdown",
   "metadata": {},
   "source": [
    "## Implementation\n",
    "\n",
    "In this lab, we will perform IPE on the single-qubit $S$-gate. The $S$ gate is given by the matrix\n",
    "\n",
    "$$ S =\n",
    "\\begin{pmatrix}\n",
    "1 & 0\\\\\n",
    "0 & e^{i\\pi / 2}\n",
    "\\end{pmatrix}$$\n",
    "\n",
    "We will use the eigenstate $|\\Psi\\rangle = |1\\rangle$, which has eigenvalue $e^{i\\pi / 2}= e^{i2\\pi \\cdot 1/4}$. So we have $\\varphi = 1/4 = 0.01 = 0.\\varphi_1 \\varphi_2$. Since $\\varphi$ can be represented exactly with 2 bits (i.e., $m=2$), our quantum circuit implementation will use a classical register with two bits to store the result."
   ]
  },
  {
   "cell_type": "markdown",
   "metadata": {},
   "source": [
    "The controlled-$S$ gate can be implemented using the controlled phase gate, available in Qiskit as `CPhaseGate`, which can also be applied by calling the `cp` method of a `QuantumCircuit`. The controlled phase gate is parameterized by an angle $\\theta$ and has the matrix\n",
    "$$\n",
    "        \\text{CPhase}(\\theta) =\n",
    "            \\begin{pmatrix}\n",
    "                1 & 0 & 0 & 0 \\\\\n",
    "                0 & 1 & 0 & 0 \\\\\n",
    "                0 & 0 & 1 & 0 \\\\\n",
    "                0 & 0 & 0 & e^{i\\theta}\n",
    "            \\end{pmatrix}\n",
    "$$"
   ]
  },
  {
   "cell_type": "markdown",
   "metadata": {},
   "source": [
    "\n",
    "### Step 1\n",
    "\n",
    "The first step of the algorithm is to measure the least significant bit $\\varphi_2$. Measure this onto the first bit of the classical register, cr[0]"
   ]
  },
  {
   "cell_type": "code",
   "execution_count": null,
   "metadata": {
    "tags": []
   },
   "outputs": [],
   "source": [
    "from qiskit import ClassicalRegister, QuantumCircuit, QuantumRegister\n",
    "import numpy as np\n",
    "\n",
    "# For convenience, the corresponding number of registers in the circuit are given below.\n",
    "\n",
    "qr = QuantumRegister(2,'q')\n",
    "cr = ClassicalRegister(2,'c')\n",
    "qc = QuantumCircuit(qr, cr)\n",
    "\n",
    "# Fill your code below to find the least significant bit of the phase of S gate.\n",
    "\n",
    "qc.measure(0,0)\n",
    "\n",
    "qc.draw(\"mpl\")"
   ]
  },
  {
   "cell_type": "markdown",
   "metadata": {},
   "source": [
    "### Step 2\n",
    "\n",
    "In the second step (also final step for our case), we extract the next bit $\\varphi_1$. This involves the following steps.\n",
    "\n",
    "1. Reset and re-initialize the auxiliary qubit to $|1\\rangle$.\n",
    "2. Apply the controlled unitary gate.\n",
    "3. Apply a phase correction based on the measured value of $\\varphi_2$. \\\n",
    "    If $\\varphi_2=cr[0]=1$ apply a phase rotation of $-\\pi/2$ to the auxillary qubit $q$; else do nothing.\n",
    "4. Measure the auxiliary qubit in the $X$ basis onto the other classical bit, cr[1]. (i.e., apply Hadamard and then measure)"
   ]
  },
  {
   "cell_type": "code",
   "execution_count": null,
   "metadata": {
    "tags": []
   },
   "outputs": [],
   "source": [
    "# Fill your code below for the step 2\n",
    "\n",
    "qc.measure(0,1)\n",
    "qc.draw(\"mpl\")"
   ]
  },
  {
   "cell_type": "markdown",
   "metadata": {},
   "source": [
    "## Run on simulator\n",
    "\n",
    "Now that we have the complete circuit, let's first run it on a local simulator.\n",
    "\n",
    "__Note__ : If you are using any custom gates make sure to transpile the circuit and then run"
   ]
  },
  {
   "cell_type": "code",
   "execution_count": null,
   "metadata": {
    "tags": []
   },
   "outputs": [],
   "source": [
    "sim = AerSimulator()\n",
    "job = sim.run(qc, shots=1000)\n",
    "result = job.result()\n",
    "counts = result.get_counts()\n",
    "plot_histogram(counts)"
   ]
  },
  {
   "cell_type": "markdown",
   "metadata": {},
   "source": [
    "If your circuit is correct, you should have gotten the bitstring `01` with 100% probability. This value corresponds to the phase written in binary as $\\varphi = 0.01 = 1/4$. Indeed, this is the correct phase! "
   ]
  },
  {
   "cell_type": "markdown",
   "metadata": {},
   "source": [
    "The approach can be generalized to any phase $\\varphi$, keeping the number of auxillary qubits is always fixed to be 1."
   ]
  },
  {
   "cell_type": "markdown",
   "metadata": {},
   "source": [
    "## Question 3\n",
    "\n",
    "Extend the iterative phase estimation approach we have seen above to find phase of the following unitary\n",
    "\n",
    "$$ U =\n",
    "\\begin{pmatrix}\n",
    "1 & 0\\\\\n",
    "0 & e^{3\\pi i/ 4}\n",
    "\\end{pmatrix}$$\n",
    "\n",
    "Note that the phase $\\varphi = 3\\pi/8 = 0.011$ (in binary), so in total you need to perform 3 steps iteratively to find all the bits of $\\varphi$.  "
   ]
  },
  {
   "cell_type": "code",
   "execution_count": 7,
   "metadata": {
    "tags": []
   },
   "outputs": [],
   "source": [
    "# Your code for creating the circuit goes here"
   ]
  },
  {
   "cell_type": "code",
   "execution_count": 9,
   "metadata": {
    "tags": []
   },
   "outputs": [],
   "source": [
    "# Run on a simulator and plot counts"
   ]
  },
  {
   "cell_type": "markdown",
   "metadata": {},
   "source": [
    "__Credits__ : A similar question was solved in Qiskit Spring Challenge 2023"
   ]
  }
 ],
 "metadata": {
  "kernelspec": {
   "display_name": "Python 3 (ipykernel)",
   "language": "python",
   "name": "python3"
  },
  "language_info": {
   "codemirror_mode": {
    "name": "ipython",
    "version": 3
   },
   "file_extension": ".py",
   "mimetype": "text/x-python",
   "name": "python",
   "nbconvert_exporter": "python",
   "pygments_lexer": "ipython3",
   "version": "3.10.8"
  },
  "vscode": {
   "interpreter": {
    "hash": "c2040b9df22fb8e6f552d9b589c97ff536ffe03a0da1ea2949f78b5a0e303bb6"
   }
  },
  "widgets": {
   "application/vnd.jupyter.widget-state+json": {
    "state": {
     "0f98e4012db946b3a20b1b21f87b69b6": {
      "model_module": "@jupyter-widgets/controls",
      "model_module_version": "2.0.0",
      "model_name": "ButtonStyleModel",
      "state": {
       "font_family": null,
       "font_size": null,
       "font_style": null,
       "font_variant": null,
       "font_weight": null,
       "text_color": null,
       "text_decoration": null
      }
     },
     "0fd35cfe304741a2bdafb9e074cc54b4": {
      "model_module": "@jupyter-widgets/controls",
      "model_module_version": "2.0.0",
      "model_name": "HTMLModel",
      "state": {
       "layout": "IPY_MODEL_fb75882d0a234af08a88271679f91e33",
       "style": "IPY_MODEL_f8b894caef0d40fd855dc800b0cfb35a",
       "value": "<h5>Job ID</h5>"
      }
     },
     "22ab22b1d9364fffa27a006ab3614308": {
      "model_module": "@jupyter-widgets/base",
      "model_module_version": "2.0.0",
      "model_name": "LayoutModel",
      "state": {
       "margin": "0px 0px 0px 37px",
       "width": "600px"
      }
     },
     "3de7fdc4f73544bd898be577759808c0": {
      "model_module": "@jupyter-widgets/base",
      "model_module_version": "2.0.0",
      "model_name": "LayoutModel",
      "state": {
       "margin": "0px 0px 10px 0px"
      }
     },
     "410f9cc204764b278fd25213e4a62078": {
      "model_module": "@jupyter-widgets/controls",
      "model_module_version": "2.0.0",
      "model_name": "HTMLModel",
      "state": {
       "layout": "IPY_MODEL_892664cc9e2741f494cd62d83465d5ec",
       "style": "IPY_MODEL_4ecfe1b1d02e4af9b49f065d47351d48",
       "value": "<h5>Message</h5>"
      }
     },
     "4ecfe1b1d02e4af9b49f065d47351d48": {
      "model_module": "@jupyter-widgets/controls",
      "model_module_version": "2.0.0",
      "model_name": "HTMLStyleModel",
      "state": {
       "description_width": "",
       "font_size": null,
       "text_color": null
      }
     },
     "5583d2eedd674d7c9fc5b6a58914ef5d": {
      "model_module": "@jupyter-widgets/base",
      "model_module_version": "2.0.0",
      "model_name": "LayoutModel",
      "state": {
       "width": "145px"
      }
     },
     "55d14f08ddbe44029c069dbf3a7ac5f8": {
      "model_module": "@jupyter-widgets/controls",
      "model_module_version": "2.0.0",
      "model_name": "HTMLStyleModel",
      "state": {
       "description_width": "",
       "font_size": null,
       "text_color": null
      }
     },
     "7f6441bb1f8145aa9d36fc8a98794fa1": {
      "model_module": "@jupyter-widgets/base",
      "model_module_version": "2.0.0",
      "model_name": "LayoutModel",
      "state": {
       "width": "70px"
      }
     },
     "84ded0e4515d4146ab5a0f05053bc0d9": {
      "model_module": "@jupyter-widgets/base",
      "model_module_version": "2.0.0",
      "model_name": "LayoutModel",
      "state": {
       "width": "95px"
      }
     },
     "855c4ccf47c64c6a955d74ee802ea93c": {
      "model_module": "@jupyter-widgets/base",
      "model_module_version": "2.0.0",
      "model_name": "LayoutModel",
      "state": {
       "grid_area": "right",
       "padding": "0px 0px 0px 0px",
       "width": "70px"
      }
     },
     "892664cc9e2741f494cd62d83465d5ec": {
      "model_module": "@jupyter-widgets/base",
      "model_module_version": "2.0.0",
      "model_name": "LayoutModel",
      "state": {}
     },
     "a3fa6d012f7646ca9ea4f778ff644c2f": {
      "model_module": "@jupyter-widgets/controls",
      "model_module_version": "2.0.0",
      "model_name": "HTMLModel",
      "state": {
       "layout": "IPY_MODEL_7f6441bb1f8145aa9d36fc8a98794fa1",
       "style": "IPY_MODEL_ff6978892202421a9f9c8544de166ca8",
       "value": "<h5>Queue</h5>"
      }
     },
     "ac6ca8f5e2284e82b801eb4b88f181e9": {
      "model_module": "@jupyter-widgets/controls",
      "model_module_version": "2.0.0",
      "model_name": "HTMLStyleModel",
      "state": {
       "description_width": "",
       "font_size": null,
       "text_color": null
      }
     },
     "b23b8ad588f14e659a07fc84e15c924b": {
      "model_module": "@jupyter-widgets/controls",
      "model_module_version": "2.0.0",
      "model_name": "HTMLModel",
      "state": {
       "layout": "IPY_MODEL_5583d2eedd674d7c9fc5b6a58914ef5d",
       "style": "IPY_MODEL_ac6ca8f5e2284e82b801eb4b88f181e9",
       "value": "<h5>Backend</h5>"
      }
     },
     "b2e720d320284b5da81ee3c2ef9619b3": {
      "model_module": "@jupyter-widgets/controls",
      "model_module_version": "2.0.0",
      "model_name": "HTMLModel",
      "state": {
       "layout": "IPY_MODEL_3de7fdc4f73544bd898be577759808c0",
       "style": "IPY_MODEL_55d14f08ddbe44029c069dbf3a7ac5f8",
       "value": "<p style='font-family: IBM Plex Sans, Arial, Helvetica, sans-serif; font-size: 20px; font-weight: medium;'>Circuit Properties</p>"
      }
     },
     "d4f22ad42a29465ab9de645fab3e4b5f": {
      "model_module": "@jupyter-widgets/controls",
      "model_module_version": "2.0.0",
      "model_name": "HTMLModel",
      "state": {
       "layout": "IPY_MODEL_84ded0e4515d4146ab5a0f05053bc0d9",
       "style": "IPY_MODEL_fdcb8ceb4811460cb100969cea4f3fae",
       "value": "<h5>Status</h5>"
      }
     },
     "dae607274441497d8d737489a1e54f68": {
      "model_module": "@jupyter-widgets/controls",
      "model_module_version": "2.0.0",
      "model_name": "ButtonModel",
      "state": {
       "button_style": "primary",
       "description": "Clear",
       "layout": "IPY_MODEL_855c4ccf47c64c6a955d74ee802ea93c",
       "style": "IPY_MODEL_0f98e4012db946b3a20b1b21f87b69b6",
       "tooltip": null
      }
     },
     "e6308cbd1d424280a4a10409bfe2b7dd": {
      "model_module": "@jupyter-widgets/base",
      "model_module_version": "2.0.0",
      "model_name": "LayoutModel",
      "state": {
       "grid_template_areas": "\n                                       \". . . . right \"\n                                        ",
       "grid_template_columns": "20% 20% 20% 20% 20%",
       "width": "100%"
      }
     },
     "e7b30c1195444d4287f115809367b506": {
      "model_module": "@jupyter-widgets/controls",
      "model_module_version": "2.0.0",
      "model_name": "GridBoxModel",
      "state": {
       "children": [
        "IPY_MODEL_dae607274441497d8d737489a1e54f68"
       ],
       "layout": "IPY_MODEL_e6308cbd1d424280a4a10409bfe2b7dd"
      }
     },
     "f8b894caef0d40fd855dc800b0cfb35a": {
      "model_module": "@jupyter-widgets/controls",
      "model_module_version": "2.0.0",
      "model_name": "HTMLStyleModel",
      "state": {
       "description_width": "",
       "font_size": null,
       "text_color": null
      }
     },
     "fb421c9c2ca946e38927b5eb2f5bcd7b": {
      "model_module": "@jupyter-widgets/controls",
      "model_module_version": "2.0.0",
      "model_name": "HBoxModel",
      "state": {
       "children": [
        "IPY_MODEL_0fd35cfe304741a2bdafb9e074cc54b4",
        "IPY_MODEL_b23b8ad588f14e659a07fc84e15c924b",
        "IPY_MODEL_d4f22ad42a29465ab9de645fab3e4b5f",
        "IPY_MODEL_a3fa6d012f7646ca9ea4f778ff644c2f",
        "IPY_MODEL_410f9cc204764b278fd25213e4a62078"
       ],
       "layout": "IPY_MODEL_22ab22b1d9364fffa27a006ab3614308"
      }
     },
     "fb75882d0a234af08a88271679f91e33": {
      "model_module": "@jupyter-widgets/base",
      "model_module_version": "2.0.0",
      "model_name": "LayoutModel",
      "state": {
       "width": "190px"
      }
     },
     "fdcb8ceb4811460cb100969cea4f3fae": {
      "model_module": "@jupyter-widgets/controls",
      "model_module_version": "2.0.0",
      "model_name": "HTMLStyleModel",
      "state": {
       "description_width": "",
       "font_size": null,
       "text_color": null
      }
     },
     "ff6978892202421a9f9c8544de166ca8": {
      "model_module": "@jupyter-widgets/controls",
      "model_module_version": "2.0.0",
      "model_name": "HTMLStyleModel",
      "state": {
       "description_width": "",
       "font_size": null,
       "text_color": null
      }
     }
    },
    "version_major": 2,
    "version_minor": 0
   }
  }
 },
 "nbformat": 4,
 "nbformat_minor": 4
}
